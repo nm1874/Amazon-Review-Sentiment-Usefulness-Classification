{
 "cells": [
  {
   "cell_type": "markdown",
   "metadata": {},
   "source": [
    "\n",
    "# Amazon find food reviews:"
   ]
  },
  {
   "cell_type": "markdown",
   "metadata": {},
   "source": [
    "Data consists of 500,000 reviews from Amazon fine food starting Oct. 1999 to Oct. 2012"
   ]
  },
  {
   "cell_type": "markdown",
   "metadata": {},
   "source": [
    "source https://snap.stanford.edu/data/web-FineFoods.html"
   ]
  },
  {
   "cell_type": "markdown",
   "metadata": {},
   "source": [
    "- Are reviews from top food reviewers more helpful and receive more positive feedback from the community?\n",
    "- Is there any trend in review score from 1999 to 2012?\n",
    "- Is it possible to predict the sentiment of the review (positive/negative) using natural language processing?\n",
    "- Is it possible to visualize any structure in the word collections in lower dimensions?"
   ]
  },
  {
   "cell_type": "markdown",
   "metadata": {},
   "source": [
    "# Importing necessary libraries"
   ]
  },
  {
   "cell_type": "code",
   "execution_count": 3,
   "metadata": {
    "collapsed": true
   },
   "outputs": [],
   "source": [
    "import numpy as np\n",
    "import pandas as pd\n",
    "import matplotlib.pyplot as plt\n",
    "from datetime import datetime\n",
    "import seaborn as sns\n",
    "from collections import Counter\n",
    "from tqdm import tqdm_notebook as tqdm\n",
    "\n",
    "%matplotlib inline"
   ]
  },
  {
   "cell_type": "markdown",
   "metadata": {},
   "source": [
    "# Reading the data"
   ]
  },
  {
   "cell_type": "markdown",
   "metadata": {},
   "source": [
    "Data has 500,000 rows and 10 columns, including productId, userId, review helpfulness score, score, timestamp (unix timestamp) and the review itself in one or multiple sentences.\n",
    "\n",
    "- Id: Index of user in the system\n",
    "- ProductId: Unique code associated with each product\n",
    "- UserId: Unique code associated with each user\n",
    "- HelpfulnessNumerator: number of uers finding review helpful\n",
    "- HelpfulnessDenominator: number of users checking the review\n",
    "- Time: Unix stamp of review\n",
    "- Summary: title of the review\n",
    "- Text: review text"
   ]
  },
  {
   "cell_type": "code",
   "execution_count": 6,
   "metadata": {
    "scrolled": true
   },
   "outputs": [],
   "source": [
    "amz_review=pd.read_csv('./amazon-fine-food-reviews/Reviews.csv')"
   ]
  },
  {
   "cell_type": "code",
   "execution_count": 7,
   "metadata": {},
   "outputs": [
    {
     "data": {
      "text/html": [
       "<div>\n",
       "<style>\n",
       "    .dataframe thead tr:only-child th {\n",
       "        text-align: right;\n",
       "    }\n",
       "\n",
       "    .dataframe thead th {\n",
       "        text-align: left;\n",
       "    }\n",
       "\n",
       "    .dataframe tbody tr th {\n",
       "        vertical-align: top;\n",
       "    }\n",
       "</style>\n",
       "<table border=\"1\" class=\"dataframe\">\n",
       "  <thead>\n",
       "    <tr style=\"text-align: right;\">\n",
       "      <th></th>\n",
       "      <th>Id</th>\n",
       "      <th>ProductId</th>\n",
       "      <th>UserId</th>\n",
       "      <th>ProfileName</th>\n",
       "      <th>HelpfulnessNumerator</th>\n",
       "      <th>HelpfulnessDenominator</th>\n",
       "      <th>Score</th>\n",
       "      <th>Time</th>\n",
       "      <th>Summary</th>\n",
       "      <th>Text</th>\n",
       "    </tr>\n",
       "  </thead>\n",
       "  <tbody>\n",
       "    <tr>\n",
       "      <th>0</th>\n",
       "      <td>1</td>\n",
       "      <td>B001E4KFG0</td>\n",
       "      <td>A3SGXH7AUHU8GW</td>\n",
       "      <td>delmartian</td>\n",
       "      <td>1</td>\n",
       "      <td>1</td>\n",
       "      <td>5</td>\n",
       "      <td>1303862400</td>\n",
       "      <td>Good Quality Dog Food</td>\n",
       "      <td>I have bought several of the Vitality canned d...</td>\n",
       "    </tr>\n",
       "    <tr>\n",
       "      <th>1</th>\n",
       "      <td>2</td>\n",
       "      <td>B00813GRG4</td>\n",
       "      <td>A1D87F6ZCVE5NK</td>\n",
       "      <td>dll pa</td>\n",
       "      <td>0</td>\n",
       "      <td>0</td>\n",
       "      <td>1</td>\n",
       "      <td>1346976000</td>\n",
       "      <td>Not as Advertised</td>\n",
       "      <td>Product arrived labeled as Jumbo Salted Peanut...</td>\n",
       "    </tr>\n",
       "  </tbody>\n",
       "</table>\n",
       "</div>"
      ],
      "text/plain": [
       "   Id   ProductId          UserId ProfileName  HelpfulnessNumerator  \\\n",
       "0   1  B001E4KFG0  A3SGXH7AUHU8GW  delmartian                     1   \n",
       "1   2  B00813GRG4  A1D87F6ZCVE5NK      dll pa                     0   \n",
       "\n",
       "   HelpfulnessDenominator  Score        Time                Summary  \\\n",
       "0                       1      5  1303862400  Good Quality Dog Food   \n",
       "1                       0      1  1346976000      Not as Advertised   \n",
       "\n",
       "                                                Text  \n",
       "0  I have bought several of the Vitality canned d...  \n",
       "1  Product arrived labeled as Jumbo Salted Peanut...  "
      ]
     },
     "execution_count": 7,
     "metadata": {},
     "output_type": "execute_result"
    }
   ],
   "source": [
    "amz_review.head(2)"
   ]
  },
  {
   "cell_type": "code",
   "execution_count": 8,
   "metadata": {},
   "outputs": [
    {
     "data": {
      "text/plain": [
       "Index(['Id', 'ProductId', 'UserId', 'ProfileName', 'HelpfulnessNumerator',\n",
       "       'HelpfulnessDenominator', 'Score', 'Time', 'Summary', 'Text'],\n",
       "      dtype='object')"
      ]
     },
     "execution_count": 8,
     "metadata": {},
     "output_type": "execute_result"
    }
   ],
   "source": [
    "amz_review.columns"
   ]
  },
  {
   "cell_type": "markdown",
   "metadata": {},
   "source": [
    "# A sample review"
   ]
  },
  {
   "cell_type": "code",
   "execution_count": 9,
   "metadata": {},
   "outputs": [
    {
     "data": {
      "text/plain": [
       "'Great taffy at a great price.  There was a wide assortment of yummy taffy.  Delivery was very quick.  If your a taffy lover, this is a deal.'"
      ]
     },
     "execution_count": 9,
     "metadata": {},
     "output_type": "execute_result"
    }
   ],
   "source": [
    "amz_review['Text'][4]"
   ]
  },
  {
   "cell_type": "code",
   "execution_count": 10,
   "metadata": {},
   "outputs": [
    {
     "data": {
      "text/plain": [
       "'Great taffy'"
      ]
     },
     "execution_count": 10,
     "metadata": {},
     "output_type": "execute_result"
    }
   ],
   "source": [
    "amz_review['Summary'][4]"
   ]
  },
  {
   "cell_type": "markdown",
   "metadata": {},
   "source": [
    "# Basic statistics on product and user number"
   ]
  },
  {
   "cell_type": "code",
   "execution_count": 11,
   "metadata": {},
   "outputs": [
    {
     "name": "stdout",
     "output_type": "stream",
     "text": [
      "Number of unique products: 74258\n"
     ]
    }
   ],
   "source": [
    "print('Number of unique products:', len(amz_review['ProductId'].unique()))"
   ]
  },
  {
   "cell_type": "code",
   "execution_count": 12,
   "metadata": {},
   "outputs": [
    {
     "name": "stdout",
     "output_type": "stream",
     "text": [
      "Number of unique users: 256059\n"
     ]
    }
   ],
   "source": [
    "print('Number of unique users:', len(amz_review['UserId'].unique()))"
   ]
  },
  {
   "cell_type": "code",
   "execution_count": 13,
   "metadata": {},
   "outputs": [
    {
     "name": "stdout",
     "output_type": "stream",
     "text": [
      "Estimate of number unique reviews: 393579\n"
     ]
    }
   ],
   "source": [
    "print('Estimate of number unique reviews:', len(amz_review['Text'].unique()))"
   ]
  },
  {
   "cell_type": "code",
   "execution_count": 14,
   "metadata": {},
   "outputs": [
    {
     "data": {
      "text/plain": [
       "295744"
      ]
     },
     "execution_count": 14,
     "metadata": {},
     "output_type": "execute_result"
    }
   ],
   "source": [
    "len(amz_review['Summary'].unique())"
   ]
  },
  {
   "cell_type": "markdown",
   "metadata": {},
   "source": [
    "# Data pre-processing"
   ]
  },
  {
   "cell_type": "markdown",
   "metadata": {},
   "source": [
    "# Check for repeated entries"
   ]
  },
  {
   "cell_type": "markdown",
   "metadata": {},
   "source": [
    "A look at the data reveal that there are over 5800 entries that are repeated. Some Users simply edited their comments and the record is kept multiple time. This repetition needs to be cleaned."
   ]
  },
  {
   "cell_type": "code",
   "execution_count": 15,
   "metadata": {},
   "outputs": [
    {
     "data": {
      "text/html": [
       "<div>\n",
       "<style>\n",
       "    .dataframe thead tr:only-child th {\n",
       "        text-align: right;\n",
       "    }\n",
       "\n",
       "    .dataframe thead th {\n",
       "        text-align: left;\n",
       "    }\n",
       "\n",
       "    .dataframe tbody tr th {\n",
       "        vertical-align: top;\n",
       "    }\n",
       "</style>\n",
       "<table border=\"1\" class=\"dataframe\">\n",
       "  <thead>\n",
       "    <tr style=\"text-align: right;\">\n",
       "      <th></th>\n",
       "      <th></th>\n",
       "      <th>Id</th>\n",
       "      <th>ProfileName</th>\n",
       "      <th>HelpfulnessNumerator</th>\n",
       "      <th>HelpfulnessDenominator</th>\n",
       "      <th>Score</th>\n",
       "      <th>Time</th>\n",
       "      <th>Summary</th>\n",
       "      <th>Text</th>\n",
       "    </tr>\n",
       "    <tr>\n",
       "      <th>UserId</th>\n",
       "      <th>ProductId</th>\n",
       "      <th></th>\n",
       "      <th></th>\n",
       "      <th></th>\n",
       "      <th></th>\n",
       "      <th></th>\n",
       "      <th></th>\n",
       "      <th></th>\n",
       "      <th></th>\n",
       "    </tr>\n",
       "  </thead>\n",
       "  <tbody>\n",
       "    <tr>\n",
       "      <th rowspan=\"5\" valign=\"top\">A29JUMRL1US6YP</th>\n",
       "      <th>B000WFKWDI</th>\n",
       "      <td>11</td>\n",
       "      <td>11</td>\n",
       "      <td>11</td>\n",
       "      <td>11</td>\n",
       "      <td>11</td>\n",
       "      <td>11</td>\n",
       "      <td>11</td>\n",
       "      <td>11</td>\n",
       "    </tr>\n",
       "    <tr>\n",
       "      <th>B000WFU8O6</th>\n",
       "      <td>11</td>\n",
       "      <td>11</td>\n",
       "      <td>11</td>\n",
       "      <td>11</td>\n",
       "      <td>11</td>\n",
       "      <td>11</td>\n",
       "      <td>11</td>\n",
       "      <td>11</td>\n",
       "    </tr>\n",
       "    <tr>\n",
       "      <th>B000WFN0VO</th>\n",
       "      <td>11</td>\n",
       "      <td>11</td>\n",
       "      <td>11</td>\n",
       "      <td>11</td>\n",
       "      <td>11</td>\n",
       "      <td>11</td>\n",
       "      <td>11</td>\n",
       "      <td>11</td>\n",
       "    </tr>\n",
       "    <tr>\n",
       "      <th>B000WFORH0</th>\n",
       "      <td>11</td>\n",
       "      <td>11</td>\n",
       "      <td>11</td>\n",
       "      <td>11</td>\n",
       "      <td>11</td>\n",
       "      <td>11</td>\n",
       "      <td>11</td>\n",
       "      <td>11</td>\n",
       "    </tr>\n",
       "    <tr>\n",
       "      <th>B000WFKI82</th>\n",
       "      <td>11</td>\n",
       "      <td>11</td>\n",
       "      <td>11</td>\n",
       "      <td>11</td>\n",
       "      <td>11</td>\n",
       "      <td>11</td>\n",
       "      <td>11</td>\n",
       "      <td>11</td>\n",
       "    </tr>\n",
       "  </tbody>\n",
       "</table>\n",
       "</div>"
      ],
      "text/plain": [
       "                           Id  ProfileName  HelpfulnessNumerator  \\\n",
       "UserId         ProductId                                           \n",
       "A29JUMRL1US6YP B000WFKWDI  11           11                    11   \n",
       "               B000WFU8O6  11           11                    11   \n",
       "               B000WFN0VO  11           11                    11   \n",
       "               B000WFORH0  11           11                    11   \n",
       "               B000WFKI82  11           11                    11   \n",
       "\n",
       "                           HelpfulnessDenominator  Score  Time  Summary  Text  \n",
       "UserId         ProductId                                                       \n",
       "A29JUMRL1US6YP B000WFKWDI                      11     11    11       11    11  \n",
       "               B000WFU8O6                      11     11    11       11    11  \n",
       "               B000WFN0VO                      11     11    11       11    11  \n",
       "               B000WFORH0                      11     11    11       11    11  \n",
       "               B000WFKI82                      11     11    11       11    11  "
      ]
     },
     "execution_count": 15,
     "metadata": {},
     "output_type": "execute_result"
    }
   ],
   "source": [
    "# grouping the data by user and product to check for repeatability\n",
    "amz_review.groupby(by=['UserId','ProductId']).count().sort_values(by=['Text'],ascending=False).head(5)"
   ]
  },
  {
   "cell_type": "code",
   "execution_count": 16,
   "metadata": {},
   "outputs": [
    {
     "data": {
      "text/plain": [
       "Id                        5859\n",
       "ProfileName               5859\n",
       "HelpfulnessNumerator      5859\n",
       "HelpfulnessDenominator    5859\n",
       "Score                     5859\n",
       "Time                      5859\n",
       "Summary                   5859\n",
       "Text                      5859\n",
       "dtype: int64"
      ]
     },
     "execution_count": 16,
     "metadata": {},
     "output_type": "execute_result"
    }
   ],
   "source": [
    "# number of total repetition in data\n",
    "((amz_review.groupby(by=['UserId','ProductId']).count().sort_values(by=['Text'],ascending=False)>1)==True).sum()"
   ]
  },
  {
   "cell_type": "code",
   "execution_count": 17,
   "metadata": {},
   "outputs": [
    {
     "name": "stdout",
     "output_type": "stream",
     "text": [
      "Initial size\n"
     ]
    },
    {
     "data": {
      "text/plain": [
       "(568454, 10)"
      ]
     },
     "execution_count": 17,
     "metadata": {},
     "output_type": "execute_result"
    }
   ],
   "source": [
    "print('Initial size')\n",
    "amz_review.shape"
   ]
  },
  {
   "cell_type": "code",
   "execution_count": 18,
   "metadata": {
    "collapsed": true
   },
   "outputs": [],
   "source": [
    "# droppping duplicate only keeping one per case\n",
    "amz_review_sorted_drop_duplicated=amz_review.drop_duplicates(subset=['UserId','ProductId'], keep='first', inplace=False)"
   ]
  },
  {
   "cell_type": "code",
   "execution_count": 19,
   "metadata": {},
   "outputs": [
    {
     "data": {
      "text/plain": [
       "Id                        0\n",
       "ProfileName               0\n",
       "HelpfulnessNumerator      0\n",
       "HelpfulnessDenominator    0\n",
       "Score                     0\n",
       "Time                      0\n",
       "Summary                   0\n",
       "Text                      0\n",
       "dtype: int64"
      ]
     },
     "execution_count": 19,
     "metadata": {},
     "output_type": "execute_result"
    }
   ],
   "source": [
    "# repeated offenders removed\n",
    "((amz_review_sorted_drop_duplicated.groupby(by=['UserId','ProductId']).count().sort_values(by=['Text'],ascending=False)>1)==True).sum()"
   ]
  },
  {
   "cell_type": "code",
   "execution_count": 20,
   "metadata": {},
   "outputs": [
    {
     "name": "stdout",
     "output_type": "stream",
     "text": [
      "Size after removing duplicate review\n"
     ]
    },
    {
     "data": {
      "text/plain": [
       "(560804, 10)"
      ]
     },
     "execution_count": 20,
     "metadata": {},
     "output_type": "execute_result"
    }
   ],
   "source": [
    "print('Size after removing duplicate review')\n",
    "amz_review_sorted_drop_duplicated.shape"
   ]
  },
  {
   "cell_type": "markdown",
   "metadata": {},
   "source": [
    "# Converting the Unix time to actual time"
   ]
  },
  {
   "cell_type": "code",
   "execution_count": 21,
   "metadata": {
    "scrolled": true
   },
   "outputs": [
    {
     "name": "stderr",
     "output_type": "stream",
     "text": [
      "C:\\Program Files\\Anaconda\\lib\\site-packages\\ipykernel_launcher.py:2: SettingWithCopyWarning: \n",
      "A value is trying to be set on a copy of a slice from a DataFrame.\n",
      "Try using .loc[row_indexer,col_indexer] = value instead\n",
      "\n",
      "See the caveats in the documentation: http://pandas.pydata.org/pandas-docs/stable/indexing.html#indexing-view-versus-copy\n",
      "  \n",
      "C:\\Program Files\\Anaconda\\lib\\site-packages\\ipykernel_launcher.py:4: SettingWithCopyWarning: \n",
      "A value is trying to be set on a copy of a slice from a DataFrame.\n",
      "Try using .loc[row_indexer,col_indexer] = value instead\n",
      "\n",
      "See the caveats in the documentation: http://pandas.pydata.org/pandas-docs/stable/indexing.html#indexing-view-versus-copy\n",
      "  after removing the cwd from sys.path.\n"
     ]
    }
   ],
   "source": [
    "# converting unix time to year/month/day format, hour/min/sec is not available\n",
    "amz_review_sorted_drop_duplicated['Time_converted']=amz_review_sorted_drop_duplicated['Time'].apply(lambda col: datetime.utcfromtimestamp(int(col)).strftime('%Y-%m-%d'))\n",
    "#strftime('%Y-%m-%d %H:%M:%S'))\n",
    "amz_review_sorted_drop_duplicated['Time_converted_ym']=amz_review_sorted_drop_duplicated['Time'].apply(lambda col: datetime.utcfromtimestamp(int(col)).strftime('%Y-%m'))"
   ]
  },
  {
   "cell_type": "code",
   "execution_count": 22,
   "metadata": {},
   "outputs": [
    {
     "name": "stdout",
     "output_type": "stream",
     "text": [
      "Earliest review\n"
     ]
    },
    {
     "data": {
      "text/plain": [
       "'1999-10-08'"
      ]
     },
     "execution_count": 22,
     "metadata": {},
     "output_type": "execute_result"
    }
   ],
   "source": [
    "print('Earliest review')\n",
    "amz_review_sorted_drop_duplicated['Time_converted'].min()"
   ]
  },
  {
   "cell_type": "code",
   "execution_count": 23,
   "metadata": {
    "scrolled": true
   },
   "outputs": [
    {
     "name": "stdout",
     "output_type": "stream",
     "text": [
      "latest review\n"
     ]
    },
    {
     "data": {
      "text/plain": [
       "'2012-10-26'"
      ]
     },
     "execution_count": 23,
     "metadata": {},
     "output_type": "execute_result"
    }
   ],
   "source": [
    "print('latest review')\n",
    "amz_review_sorted_drop_duplicated['Time_converted'].max()"
   ]
  },
  {
   "cell_type": "markdown",
   "metadata": {},
   "source": [
    "# Cleaning the text of reviews (multiple steps)"
   ]
  },
  {
   "cell_type": "markdown",
   "metadata": {},
   "source": [
    "- Removing partially scraped containing html headers, and lower case the text\n",
    "- Remove special characters (e.g. \"{$1?&\") from the text\n",
    "- Removing extra space, parsing the data\n",
    "- Removing stopwords (e.g. \" he, she, is, the,...\"), keep reviews with at least 3 word\n",
    "- Removing NaN (very few)"
   ]
  },
  {
   "cell_type": "markdown",
   "metadata": {},
   "source": [
    "## Removing partially scraped html from data"
   ]
  },
  {
   "cell_type": "code",
   "execution_count": 24,
   "metadata": {
    "collapsed": true
   },
   "outputs": [],
   "source": [
    "def clean_span(col):  \n",
    "    \n",
    "    ''' This function clean the partially scraped html data \"<span\" from each input after lower case conversion\n",
    "    \n",
    "    Input:\n",
    "    \n",
    "    col: text from cell of a dataframe\n",
    "    \n",
    "    Return:\n",
    "    \n",
    "    clean (no \"<span\") /lower case text\n",
    "    '''\n",
    "    \n",
    "    \n",
    "    if('<span' not in col.lower()):\n",
    "\n",
    "        return col.lower()"
   ]
  },
  {
   "cell_type": "code",
   "execution_count": 25,
   "metadata": {},
   "outputs": [
    {
     "name": "stderr",
     "output_type": "stream",
     "text": [
      "C:\\Program Files\\Anaconda\\lib\\site-packages\\ipykernel_launcher.py:1: SettingWithCopyWarning: \n",
      "A value is trying to be set on a copy of a slice from a DataFrame.\n",
      "Try using .loc[row_indexer,col_indexer] = value instead\n",
      "\n",
      "See the caveats in the documentation: http://pandas.pydata.org/pandas-docs/stable/indexing.html#indexing-view-versus-copy\n",
      "  \"\"\"Entry point for launching an IPython kernel.\n"
     ]
    }
   ],
   "source": [
    "amz_review_sorted_drop_duplicated['Text_new']=amz_review_sorted_drop_duplicated['Text'].apply(clean_span)"
   ]
  },
  {
   "cell_type": "code",
   "execution_count": 26,
   "metadata": {},
   "outputs": [
    {
     "data": {
      "text/plain": [
       "Id                          0\n",
       "ProductId                   0\n",
       "UserId                      0\n",
       "ProfileName                16\n",
       "HelpfulnessNumerator        0\n",
       "HelpfulnessDenominator      0\n",
       "Score                       0\n",
       "Time                        0\n",
       "Summary                    26\n",
       "Text                        0\n",
       "Time_converted              0\n",
       "Time_converted_ym           0\n",
       "Text_new                  373\n",
       "dtype: int64"
      ]
     },
     "execution_count": 26,
     "metadata": {},
     "output_type": "execute_result"
    }
   ],
   "source": [
    "amz_review_sorted_drop_duplicated.isnull().sum()"
   ]
  },
  {
   "cell_type": "markdown",
   "metadata": {},
   "source": [
    "## Removing NaNs"
   ]
  },
  {
   "cell_type": "code",
   "execution_count": 27,
   "metadata": {},
   "outputs": [
    {
     "name": "stderr",
     "output_type": "stream",
     "text": [
      "C:\\Program Files\\Anaconda\\lib\\site-packages\\ipykernel_launcher.py:2: SettingWithCopyWarning: \n",
      "A value is trying to be set on a copy of a slice from a DataFrame\n",
      "\n",
      "See the caveats in the documentation: http://pandas.pydata.org/pandas-docs/stable/indexing.html#indexing-view-versus-copy\n",
      "  \n"
     ]
    }
   ],
   "source": [
    "# data is removed from very few NaNs\n",
    "amz_review_sorted_drop_duplicated.dropna(inplace=True)"
   ]
  },
  {
   "cell_type": "markdown",
   "metadata": {},
   "source": [
    "## Removing English stop words and special characters from reviews"
   ]
  },
  {
   "cell_type": "code",
   "execution_count": 34,
   "metadata": {},
   "outputs": [
    {
     "name": "stdout",
     "output_type": "stream",
     "text": [
      "stop word length 642\n"
     ]
    }
   ],
   "source": [
    "stop_word_list =[]\n",
    "for word in open('./amazon-fine-food-reviews/stopword_short_long_mod.txt'):\n",
    "    stop_word_list.append(word.replace('\\n',''))\n",
    "    \n",
    "stop_word_list=list(set(stop_word_list))   \n",
    "print('stop word length', len(stop_word_list))\n",
    "\n",
    "special_char_list=['\\\\','`','\\\"',\"'\",'*','_','{','}','[',']','(',')',';','@','^','&','>','#','+',':','-','_','=','|','>','<','~','.','!','$','/',',','?','%','0','1','2','3','4','5','6','7','8','9']\n",
    "\n",
    "         \n",
    "                \n",
    "def remove_specialchar(col):\n",
    "    \n",
    "    ''' This function remove special characters \"#, %, 1,&,.\", and extra space which have no particular effect of sentiment\n",
    "    analysis, \n",
    "    \n",
    "    Input:\n",
    "    \n",
    "    col: text (string)\n",
    "    \n",
    "    Return:\n",
    "    \n",
    "    clean text without special character and extra spce\n",
    "    '''    \n",
    "        \n",
    "    for word in special_char_list:\n",
    "\n",
    "        if word in col: \n",
    "            col=col.replace(word,\"\").replace(\"  \",\" \")\n",
    "\n",
    "\n",
    "    return col                  \n",
    "    \n",
    "def remove_stopword(col):\n",
    "\n",
    "    ''' This function remove stopwords \"he, she, is, that, the\" which have no particular effect of sentiment\n",
    "    analysis, parse the data, remove \"\\n\", and keep reviews with more than 3 words\n",
    "    \n",
    "    Input:\n",
    "    \n",
    "    col: text from cell of a dataframe\n",
    "    \n",
    "    Return:\n",
    "    \n",
    "    list of parsed words from each review\n",
    "    '''\n",
    "    \n",
    "        \n",
    "    col_list=[]\n",
    "    txt_col_split=col.lower().replace('\\n',\" \").strip().split(\" \")\n",
    "\n",
    "    for word_ in txt_col_split:\n",
    "\n",
    "        if ((word_ not in stop_word_list) and len(word)>3):\n",
    "\n",
    "            col_list.append(word_)\n",
    "\n",
    "    return (col_list)"
   ]
  },
  {
   "cell_type": "code",
   "execution_count": 35,
   "metadata": {},
   "outputs": [
    {
     "name": "stderr",
     "output_type": "stream",
     "text": [
      "C:\\Program Files\\Anaconda\\lib\\site-packages\\ipykernel_launcher.py:2: SettingWithCopyWarning: \n",
      "A value is trying to be set on a copy of a slice from a DataFrame.\n",
      "Try using .loc[row_indexer,col_indexer] = value instead\n",
      "\n",
      "See the caveats in the documentation: http://pandas.pydata.org/pandas-docs/stable/indexing.html#indexing-view-versus-copy\n",
      "  \n"
     ]
    }
   ],
   "source": [
    "# applying special character removal to dataframe\n",
    "amz_review_sorted_drop_duplicated['Text_new2']=amz_review_sorted_drop_duplicated['Text_new'].apply(remove_specialchar)"
   ]
  },
  {
   "cell_type": "code",
   "execution_count": 36,
   "metadata": {},
   "outputs": [
    {
     "name": "stderr",
     "output_type": "stream",
     "text": [
      "C:\\Program Files\\Anaconda\\lib\\site-packages\\ipykernel_launcher.py:3: SettingWithCopyWarning: \n",
      "A value is trying to be set on a copy of a slice from a DataFrame.\n",
      "Try using .loc[row_indexer,col_indexer] = value instead\n",
      "\n",
      "See the caveats in the documentation: http://pandas.pydata.org/pandas-docs/stable/indexing.html#indexing-view-versus-copy\n",
      "  This is separate from the ipykernel package so we can avoid doing imports until\n"
     ]
    }
   ],
   "source": [
    "\n",
    "# applying stop words removal to dataframe\n",
    "amz_review_sorted_drop_duplicated['Text_new2']=amz_review_sorted_drop_duplicated['Text_new2'].apply(remove_stopword)"
   ]
  },
  {
   "cell_type": "markdown",
   "metadata": {},
   "source": [
    "## Example of parsed and cleaned review"
   ]
  },
  {
   "cell_type": "code",
   "execution_count": 37,
   "metadata": {},
   "outputs": [
    {
     "name": "stdout",
     "output_type": "stream",
     "text": [
      "['bought', 'vitality', 'canned', 'dog', 'food', 'products', 'good', 'quality', 'product', 'like', 'stew', 'processed', 'meat', 'smells', 'better', 'labrador', 'finicky', 'appreciates', 'product', 'better']\n"
     ]
    }
   ],
   "source": [
    "#  A list of cleans words is the output\n",
    "print(amz_review_sorted_drop_duplicated['Text_new2'][0])"
   ]
  },
  {
   "cell_type": "markdown",
   "metadata": {},
   "source": [
    "## Calculating review lenghts¶"
   ]
  },
  {
   "cell_type": "markdown",
   "metadata": {},
   "source": [
    "- Length of review is calculated (after cleaning) to understand impact of more in depth content on its helpfulness\n",
    "- Reviews on average have about 80 words, very small <1% go beyond 400 words"
   ]
  },
  {
   "cell_type": "code",
   "execution_count": 38,
   "metadata": {},
   "outputs": [
    {
     "name": "stderr",
     "output_type": "stream",
     "text": [
      "C:\\Program Files\\Anaconda\\lib\\site-packages\\ipykernel_launcher.py:2: SettingWithCopyWarning: \n",
      "A value is trying to be set on a copy of a slice from a DataFrame.\n",
      "Try using .loc[row_indexer,col_indexer] = value instead\n",
      "\n",
      "See the caveats in the documentation: http://pandas.pydata.org/pandas-docs/stable/indexing.html#indexing-view-versus-copy\n",
      "  \n"
     ]
    }
   ],
   "source": [
    "# lenght of review calculated stored in new column\n",
    "amz_review_sorted_drop_duplicated['Text_lenght']=amz_review_sorted_drop_duplicated['Text'].apply(lambda col: len(col.split(' ')))"
   ]
  },
  {
   "cell_type": "code",
   "execution_count": 39,
   "metadata": {},
   "outputs": [
    {
     "data": {
      "image/png": "[encoded data removed]",
      "text/plain": [
       "<matplotlib.figure.Figure at 0x9fcd9ef0>"
      ]
     },
     "metadata": {},
     "output_type": "display_data"
    }
   ],
   "source": [
    "amz_review_sorted_drop_duplicated['Text_lenght'].hist(bins=1000);\n",
    "plt.xlim(0,400)\n",
    "plt.title('Review length distribution',fontsize=14);"
   ]
  },
  {
   "cell_type": "code",
   "execution_count": 40,
   "metadata": {},
   "outputs": [
    {
     "data": {
      "text/plain": [
       "count    560389.000000\n",
       "mean         81.332076\n",
       "std          79.101063\n",
       "min           3.000000\n",
       "25%          34.000000\n",
       "50%          57.000000\n",
       "75%          99.000000\n",
       "max        3526.000000\n",
       "Name: Text_lenght, dtype: float64"
      ]
     },
     "execution_count": 40,
     "metadata": {},
     "output_type": "execute_result"
    }
   ],
   "source": [
    "amz_review_sorted_drop_duplicated['Text_lenght'].describe()"
   ]
  },
  {
   "cell_type": "code",
   "execution_count": 41,
   "metadata": {},
   "outputs": [
    {
     "data": {
      "text/plain": [
       "Id                        0\n",
       "ProductId                 0\n",
       "UserId                    0\n",
       "ProfileName               0\n",
       "HelpfulnessNumerator      0\n",
       "HelpfulnessDenominator    0\n",
       "Score                     0\n",
       "Time                      0\n",
       "Summary                   0\n",
       "Text                      0\n",
       "Time_converted            0\n",
       "Time_converted_ym         0\n",
       "Text_new                  0\n",
       "Text_new2                 0\n",
       "Text_lenght               0\n",
       "dtype: int64"
      ]
     },
     "execution_count": 41,
     "metadata": {},
     "output_type": "execute_result"
    }
   ],
   "source": [
    "# data checked again, no Nan observed\n",
    "amz_review_sorted_drop_duplicated.isnull().sum()"
   ]
  },
  {
   "cell_type": "markdown",
   "metadata": {},
   "source": [
    "## A look at the review scores¶"
   ]
  },
  {
   "cell_type": "markdown",
   "metadata": {},
   "source": [
    "- Checking the count of the reviews for each score\n",
    "- Ratio of reviews with score 5 are disproportional to the rest of reviews, with 3 to 1 ratio\n",
    "- This high count of \"5\" star reviews will be revisited again with trend with time is addressed in later section"
   ]
  },
  {
   "cell_type": "code",
   "execution_count": 42,
   "metadata": {},
   "outputs": [
    {
     "data": {
      "image/png": "[encoded data removed]",
      "text/plain": [
       "<matplotlib.figure.Figure at 0x515d3358>"
      ]
     },
     "metadata": {},
     "output_type": "display_data"
    }
   ],
   "source": [
    "# plotting count of each review star\n",
    "sns.countplot(x='Score', data=amz_review_sorted_drop_duplicated);\n",
    "plt.xlabel('Score',fontsize=14);\n",
    "plt.ylabel('Count',fontsize=14);\n",
    "plt.title('Review Score count 1999-2012',fontsize=14);\n",
    "plt.savefig('review_score_count_1999_2012.png')"
   ]
  },
  {
   "cell_type": "code",
   "execution_count": 43,
   "metadata": {},
   "outputs": [
    {
     "name": "stderr",
     "output_type": "stream",
     "text": [
      "C:\\Program Files\\Anaconda\\lib\\site-packages\\ipykernel_launcher.py:20: SettingWithCopyWarning: \n",
      "A value is trying to be set on a copy of a slice from a DataFrame.\n",
      "Try using .loc[row_indexer,col_indexer] = value instead\n",
      "\n",
      "See the caveats in the documentation: http://pandas.pydata.org/pandas-docs/stable/indexing.html#indexing-view-versus-copy\n"
     ]
    }
   ],
   "source": [
    "def score_pos_neg(col):\n",
    "    \n",
    "    ''' This function get the score between 1 to five and return 1 for score>3 and return 0 for score<3,\n",
    "    as positive and negative respectively\n",
    "    \n",
    "    Input:\n",
    "    \n",
    "    col: number between 1 to 5 (review star)\n",
    "    \n",
    "    Return:\n",
    "    \n",
    "    return 1 or 0\n",
    "    '''\n",
    "    \n",
    "    if col>3:\n",
    "        return 1\n",
    "    else:\n",
    "        return 0\n",
    "\n",
    "amz_review_sorted_drop_duplicated['score_pos_neg']=amz_review_sorted_drop_duplicated['Score'].apply(score_pos_neg)"
   ]
  },
  {
   "cell_type": "code",
   "execution_count": 44,
   "metadata": {},
   "outputs": [
    {
     "data": {
      "image/png": "[encoded data removed]",
      "text/plain": [
       "<matplotlib.figure.Figure at 0x33098278>"
      ]
     },
     "metadata": {},
     "output_type": "display_data"
    }
   ],
   "source": [
    "#plotting count of positive \"1\" and negative \"0\" reviews\n",
    "sns.countplot(x='score_pos_neg', data=amz_review_sorted_drop_duplicated);\n",
    "plt.xlabel('Score 0/1',fontsize=14);\n",
    "plt.ylabel('Count',fontsize=14);\n",
    "plt.title('Review Score 0/1 count 1999-2012',fontsize=14);\n",
    "plt.savefig('review_score_01count_1999_2012.png')"
   ]
  },
  {
   "cell_type": "code",
   "execution_count": 45,
   "metadata": {
    "collapsed": true
   },
   "outputs": [],
   "source": [
    "# parsed and cleaned data is saved in csv file\n",
    "amz_review_sorted_drop_duplicated.to_csv('amazon_review_parsed.csv',index=False)"
   ]
  },
  {
   "cell_type": "markdown",
   "metadata": {},
   "source": [
    "## A look at top reviewer population (individuals with more than 10 reviews)"
   ]
  },
  {
   "cell_type": "markdown",
   "metadata": {},
   "source": [
    "- Top reviewer are group of users to have spent more time reviewing the products and expected to have more engagement with the community, impact of this engagement effectiveness is studied in terms of feedback they receive from the community fortheir review\n",
    "- Individual with more than 10 review are in top review group, regardless of number of products\n",
    "- Total review count per each user is analyzed against their average review helpfulness,as well as average review length"
   ]
  },
  {
   "cell_type": "code",
   "execution_count": 73,
   "metadata": {},
   "outputs": [
    {
     "data": {
      "text/html": [
       "<div>\n",
       "<style>\n",
       "    .dataframe thead tr:only-child th {\n",
       "        text-align: right;\n",
       "    }\n",
       "\n",
       "    .dataframe thead th {\n",
       "        text-align: left;\n",
       "    }\n",
       "\n",
       "    .dataframe tbody tr th {\n",
       "        vertical-align: top;\n",
       "    }\n",
       "</style>\n",
       "<table border=\"1\" class=\"dataframe\">\n",
       "  <thead>\n",
       "    <tr style=\"text-align: right;\">\n",
       "      <th></th>\n",
       "      <th>UserId</th>\n",
       "      <th>Id</th>\n",
       "      <th>ProductId</th>\n",
       "      <th>ProfileName</th>\n",
       "      <th>HelpfulnessNumerator</th>\n",
       "      <th>HelpfulnessDenominator</th>\n",
       "      <th>Score</th>\n",
       "      <th>Time</th>\n",
       "      <th>Summary</th>\n",
       "      <th>Text</th>\n",
       "      <th>Time_converted</th>\n",
       "      <th>Time_converted_ym</th>\n",
       "      <th>Text_new</th>\n",
       "      <th>Text_new2</th>\n",
       "      <th>Text_lenght</th>\n",
       "      <th>score_pos_neg</th>\n",
       "    </tr>\n",
       "  </thead>\n",
       "  <tbody>\n",
       "    <tr>\n",
       "      <th>0</th>\n",
       "      <td>A3OXHLG6DIBRW8</td>\n",
       "      <td>419</td>\n",
       "      <td>419</td>\n",
       "      <td>419</td>\n",
       "      <td>419</td>\n",
       "      <td>419</td>\n",
       "      <td>419</td>\n",
       "      <td>419</td>\n",
       "      <td>419</td>\n",
       "      <td>419</td>\n",
       "      <td>419</td>\n",
       "      <td>419</td>\n",
       "      <td>419</td>\n",
       "      <td>419</td>\n",
       "      <td>419</td>\n",
       "      <td>419</td>\n",
       "    </tr>\n",
       "    <tr>\n",
       "      <th>1</th>\n",
       "      <td>AY12DBB0U420B</td>\n",
       "      <td>382</td>\n",
       "      <td>382</td>\n",
       "      <td>382</td>\n",
       "      <td>382</td>\n",
       "      <td>382</td>\n",
       "      <td>382</td>\n",
       "      <td>382</td>\n",
       "      <td>382</td>\n",
       "      <td>382</td>\n",
       "      <td>382</td>\n",
       "      <td>382</td>\n",
       "      <td>382</td>\n",
       "      <td>382</td>\n",
       "      <td>382</td>\n",
       "      <td>382</td>\n",
       "    </tr>\n",
       "    <tr>\n",
       "      <th>2</th>\n",
       "      <td>A281NPSIMI1C2R</td>\n",
       "      <td>321</td>\n",
       "      <td>321</td>\n",
       "      <td>321</td>\n",
       "      <td>321</td>\n",
       "      <td>321</td>\n",
       "      <td>321</td>\n",
       "      <td>321</td>\n",
       "      <td>321</td>\n",
       "      <td>321</td>\n",
       "      <td>321</td>\n",
       "      <td>321</td>\n",
       "      <td>321</td>\n",
       "      <td>321</td>\n",
       "      <td>321</td>\n",
       "      <td>321</td>\n",
       "    </tr>\n",
       "    <tr>\n",
       "      <th>3</th>\n",
       "      <td>A1YUL9PCJR3JTY</td>\n",
       "      <td>308</td>\n",
       "      <td>308</td>\n",
       "      <td>308</td>\n",
       "      <td>308</td>\n",
       "      <td>308</td>\n",
       "      <td>308</td>\n",
       "      <td>308</td>\n",
       "      <td>308</td>\n",
       "      <td>308</td>\n",
       "      <td>308</td>\n",
       "      <td>308</td>\n",
       "      <td>308</td>\n",
       "      <td>308</td>\n",
       "      <td>308</td>\n",
       "      <td>308</td>\n",
       "    </tr>\n",
       "    <tr>\n",
       "      <th>4</th>\n",
       "      <td>A1Z54EM24Y40LL</td>\n",
       "      <td>251</td>\n",
       "      <td>251</td>\n",
       "      <td>251</td>\n",
       "      <td>251</td>\n",
       "      <td>251</td>\n",
       "      <td>251</td>\n",
       "      <td>251</td>\n",
       "      <td>251</td>\n",
       "      <td>251</td>\n",
       "      <td>251</td>\n",
       "      <td>251</td>\n",
       "      <td>251</td>\n",
       "      <td>251</td>\n",
       "      <td>251</td>\n",
       "      <td>251</td>\n",
       "    </tr>\n",
       "  </tbody>\n",
       "</table>\n",
       "</div>"
      ],
      "text/plain": [
       "           UserId   Id  ProductId  ProfileName  HelpfulnessNumerator  \\\n",
       "0  A3OXHLG6DIBRW8  419        419          419                   419   \n",
       "1   AY12DBB0U420B  382        382          382                   382   \n",
       "2  A281NPSIMI1C2R  321        321          321                   321   \n",
       "3  A1YUL9PCJR3JTY  308        308          308                   308   \n",
       "4  A1Z54EM24Y40LL  251        251          251                   251   \n",
       "\n",
       "   HelpfulnessDenominator  Score  Time  Summary  Text  Time_converted  \\\n",
       "0                     419    419   419      419   419             419   \n",
       "1                     382    382   382      382   382             382   \n",
       "2                     321    321   321      321   321             321   \n",
       "3                     308    308   308      308   308             308   \n",
       "4                     251    251   251      251   251             251   \n",
       "\n",
       "   Time_converted_ym  Text_new  Text_new2  Text_lenght  score_pos_neg  \n",
       "0                419       419        419          419            419  \n",
       "1                382       382        382          382            382  \n",
       "2                321       321        321          321            321  \n",
       "3                308       308        308          308            308  \n",
       "4                251       251        251          251            251  "
      ]
     },
     "execution_count": 73,
     "metadata": {},
     "output_type": "execute_result"
    }
   ],
   "source": [
    "# total review per user is grouped\n",
    "user_number_review=amz_review_sorted_drop_duplicated.groupby(by=['UserId']).count().sort_values(by=['Text'],ascending=False)\n",
    "user_number_review.reset_index(drop=False, inplace=True)\n",
    "user_number_review.head()"
   ]
  },
  {
   "cell_type": "code",
   "execution_count": 82,
   "metadata": {},
   "outputs": [
    {
     "data": {
      "text/html": [
       "<div>\n",
       "<style>\n",
       "    .dataframe thead tr:only-child th {\n",
       "        text-align: right;\n",
       "    }\n",
       "\n",
       "    .dataframe thead th {\n",
       "        text-align: left;\n",
       "    }\n",
       "\n",
       "    .dataframe tbody tr th {\n",
       "        vertical-align: top;\n",
       "    }\n",
       "</style>\n",
       "<table border=\"1\" class=\"dataframe\">\n",
       "  <thead>\n",
       "    <tr style=\"text-align: right;\">\n",
       "      <th></th>\n",
       "      <th>Id</th>\n",
       "      <th>UserId</th>\n",
       "    </tr>\n",
       "  </thead>\n",
       "  <tbody>\n",
       "    <tr>\n",
       "      <th>0</th>\n",
       "      <td>419</td>\n",
       "      <td>A3OXHLG6DIBRW8</td>\n",
       "    </tr>\n",
       "    <tr>\n",
       "      <th>1</th>\n",
       "      <td>382</td>\n",
       "      <td>AY12DBB0U420B</td>\n",
       "    </tr>\n",
       "    <tr>\n",
       "      <th>2</th>\n",
       "      <td>321</td>\n",
       "      <td>A281NPSIMI1C2R</td>\n",
       "    </tr>\n",
       "    <tr>\n",
       "      <th>3</th>\n",
       "      <td>308</td>\n",
       "      <td>A1YUL9PCJR3JTY</td>\n",
       "    </tr>\n",
       "    <tr>\n",
       "      <th>4</th>\n",
       "      <td>251</td>\n",
       "      <td>A1Z54EM24Y40LL</td>\n",
       "    </tr>\n",
       "    <tr>\n",
       "      <th>5</th>\n",
       "      <td>201</td>\n",
       "      <td>A2MUGFV2TDQ47K</td>\n",
       "    </tr>\n",
       "    <tr>\n",
       "      <th>6</th>\n",
       "      <td>167</td>\n",
       "      <td>AQQLWCMRNDFGI</td>\n",
       "    </tr>\n",
       "    <tr>\n",
       "      <th>7</th>\n",
       "      <td>167</td>\n",
       "      <td>AZV26LP92E6WU</td>\n",
       "    </tr>\n",
       "    <tr>\n",
       "      <th>8</th>\n",
       "      <td>157</td>\n",
       "      <td>A1UQBFCERIP7VJ</td>\n",
       "    </tr>\n",
       "    <tr>\n",
       "      <th>9</th>\n",
       "      <td>151</td>\n",
       "      <td>AY1EF0GOH80EK</td>\n",
       "    </tr>\n",
       "  </tbody>\n",
       "</table>\n",
       "</div>"
      ],
      "text/plain": [
       "    Id          UserId\n",
       "0  419  A3OXHLG6DIBRW8\n",
       "1  382   AY12DBB0U420B\n",
       "2  321  A281NPSIMI1C2R\n",
       "3  308  A1YUL9PCJR3JTY\n",
       "4  251  A1Z54EM24Y40LL\n",
       "5  201  A2MUGFV2TDQ47K\n",
       "6  167   AQQLWCMRNDFGI\n",
       "7  167   AZV26LP92E6WU\n",
       "8  157  A1UQBFCERIP7VJ\n",
       "9  151   AY1EF0GOH80EK"
      ]
     },
     "execution_count": 82,
     "metadata": {},
     "output_type": "execute_result"
    }
   ],
   "source": [
    "# only individual with moe than 10 review incuded in top group\n",
    "user_top_reviewer=user_number_review[user_number_review['Id']>10][['Id', 'UserId']]\n",
    "user_top_reviewer.head(10)   #11 to 419"
   ]
  },
  {
   "cell_type": "code",
   "execution_count": 83,
   "metadata": {},
   "outputs": [
    {
     "data": {
      "image/png": "[encoded data removed]",
      "text/plain": [
       "<matplotlib.figure.Figure at 0x2c3b94e0>"
      ]
     },
     "metadata": {},
     "output_type": "display_data"
    }
   ],
   "source": [
    "# distribution of review count per user\n",
    "\n",
    "user_top_reviewer['Id'].hist(bins=400,label='Number of reviews for Top (>10) reviewer',alpha=0.7);\n",
    "plt.xlabel('Review count of top reviewers',fontsize=14);\n",
    "plt.ylabel('count',fontsize=14);\n",
    "\n",
    "plt.grid(linewidth=0.5,alpha=0.75)\n",
    "\n",
    "plt.xlim(10,100)\n",
    "plt.title('Review count for top reviewers',fontsize=14);\n",
    "plt.savefig('review_count__top_reviewer_dist.png')"
   ]
  },
  {
   "cell_type": "code",
   "execution_count": 84,
   "metadata": {},
   "outputs": [
    {
     "data": {
      "text/plain": [
       "count    6098.000000\n",
       "mean       19.741391\n",
       "std        17.374368\n",
       "min        11.000000\n",
       "25%        12.000000\n",
       "50%        15.000000\n",
       "75%        21.000000\n",
       "max       419.000000\n",
       "Name: Id, dtype: float64"
      ]
     },
     "execution_count": 84,
     "metadata": {},
     "output_type": "execute_result"
    }
   ],
   "source": [
    "user_top_reviewer['Id'].describe()"
   ]
  },
  {
   "cell_type": "code",
   "execution_count": 85,
   "metadata": {
    "collapsed": true
   },
   "outputs": [],
   "source": [
    "user_top_reviewer.to_csv('amazon_top_reviewer_list.csv')"
   ]
  },
  {
   "cell_type": "code",
   "execution_count": 86,
   "metadata": {
    "collapsed": true
   },
   "outputs": [],
   "source": [
    "# getting average data per user\n",
    "user_average_info=amz_review_sorted_drop_duplicated.groupby(by=['UserId']).mean()"
   ]
  },
  {
   "cell_type": "code",
   "execution_count": 92,
   "metadata": {
    "collapsed": true
   },
   "outputs": [],
   "source": [
    "user_average_info.reset_index(drop=False, inplace=True)"
   ]
  },
  {
   "cell_type": "code",
   "execution_count": 93,
   "metadata": {
    "collapsed": true
   },
   "outputs": [],
   "source": [
    "user_average_info.to_csv('amazon_reviewer_avg_info.csv')"
   ]
  },
  {
   "cell_type": "markdown",
   "metadata": {},
   "source": [
    "On average top reviewers write about 20 reviews, with very few <1% write over 40 review"
   ]
  },
  {
   "cell_type": "markdown",
   "metadata": {},
   "source": [
    "## Getting the average statistics for top reviewers"
   ]
  },
  {
   "cell_type": "code",
   "execution_count": 94,
   "metadata": {},
   "outputs": [],
   "source": [
    "# merging total review count and avg data per user\n",
    "top_reviewer_avg_data=pd.merge(user_average_info,user_top_reviewer,how='inner',on='UserId')"
   ]
  },
  {
   "cell_type": "code",
   "execution_count": 95,
   "metadata": {},
   "outputs": [
    {
     "data": {
      "text/html": [
       "<div>\n",
       "<style>\n",
       "    .dataframe thead tr:only-child th {\n",
       "        text-align: right;\n",
       "    }\n",
       "\n",
       "    .dataframe thead th {\n",
       "        text-align: left;\n",
       "    }\n",
       "\n",
       "    .dataframe tbody tr th {\n",
       "        vertical-align: top;\n",
       "    }\n",
       "</style>\n",
       "<table border=\"1\" class=\"dataframe\">\n",
       "  <thead>\n",
       "    <tr style=\"text-align: right;\">\n",
       "      <th></th>\n",
       "      <th>Id</th>\n",
       "      <th>UserId</th>\n",
       "    </tr>\n",
       "  </thead>\n",
       "  <tbody>\n",
       "    <tr>\n",
       "      <th>0</th>\n",
       "      <td>419</td>\n",
       "      <td>A3OXHLG6DIBRW8</td>\n",
       "    </tr>\n",
       "    <tr>\n",
       "      <th>1</th>\n",
       "      <td>382</td>\n",
       "      <td>AY12DBB0U420B</td>\n",
       "    </tr>\n",
       "    <tr>\n",
       "      <th>2</th>\n",
       "      <td>321</td>\n",
       "      <td>A281NPSIMI1C2R</td>\n",
       "    </tr>\n",
       "    <tr>\n",
       "      <th>3</th>\n",
       "      <td>308</td>\n",
       "      <td>A1YUL9PCJR3JTY</td>\n",
       "    </tr>\n",
       "    <tr>\n",
       "      <th>4</th>\n",
       "      <td>251</td>\n",
       "      <td>A1Z54EM24Y40LL</td>\n",
       "    </tr>\n",
       "  </tbody>\n",
       "</table>\n",
       "</div>"
      ],
      "text/plain": [
       "    Id          UserId\n",
       "0  419  A3OXHLG6DIBRW8\n",
       "1  382   AY12DBB0U420B\n",
       "2  321  A281NPSIMI1C2R\n",
       "3  308  A1YUL9PCJR3JTY\n",
       "4  251  A1Z54EM24Y40LL"
      ]
     },
     "execution_count": 95,
     "metadata": {},
     "output_type": "execute_result"
    }
   ],
   "source": [
    "user_top_reviewer.head()"
   ]
  },
  {
   "cell_type": "code",
   "execution_count": 100,
   "metadata": {},
   "outputs": [
    {
     "data": {
      "text/html": [
       "<div>\n",
       "<style>\n",
       "    .dataframe thead tr:only-child th {\n",
       "        text-align: right;\n",
       "    }\n",
       "\n",
       "    .dataframe thead th {\n",
       "        text-align: left;\n",
       "    }\n",
       "\n",
       "    .dataframe tbody tr th {\n",
       "        vertical-align: top;\n",
       "    }\n",
       "</style>\n",
       "<table border=\"1\" class=\"dataframe\">\n",
       "  <thead>\n",
       "    <tr style=\"text-align: right;\">\n",
       "      <th></th>\n",
       "      <th>UserId</th>\n",
       "      <th>Id</th>\n",
       "      <th>HelpfulnessNumerator</th>\n",
       "      <th>HelpfulnessDenominator</th>\n",
       "      <th>Score</th>\n",
       "      <th>Time</th>\n",
       "      <th>Text_lenght</th>\n",
       "      <th>score_pos_neg</th>\n",
       "    </tr>\n",
       "  </thead>\n",
       "  <tbody>\n",
       "    <tr>\n",
       "      <th>0</th>\n",
       "      <td>#oc-R103C0QSV1DF5E</td>\n",
       "      <td>136323.0</td>\n",
       "      <td>1.0</td>\n",
       "      <td>2.0</td>\n",
       "      <td>5.0</td>\n",
       "      <td>1.343088e+09</td>\n",
       "      <td>56.0</td>\n",
       "      <td>1.0</td>\n",
       "    </tr>\n",
       "    <tr>\n",
       "      <th>1</th>\n",
       "      <td>#oc-R109MU5OBBZ59U</td>\n",
       "      <td>516062.0</td>\n",
       "      <td>0.0</td>\n",
       "      <td>1.0</td>\n",
       "      <td>5.0</td>\n",
       "      <td>1.350086e+09</td>\n",
       "      <td>21.0</td>\n",
       "      <td>1.0</td>\n",
       "    </tr>\n",
       "    <tr>\n",
       "      <th>2</th>\n",
       "      <td>#oc-R10LFEMQEW6QGZ</td>\n",
       "      <td>516079.0</td>\n",
       "      <td>0.0</td>\n",
       "      <td>1.0</td>\n",
       "      <td>5.0</td>\n",
       "      <td>1.345939e+09</td>\n",
       "      <td>85.0</td>\n",
       "      <td>1.0</td>\n",
       "    </tr>\n",
       "    <tr>\n",
       "      <th>3</th>\n",
       "      <td>#oc-R10LT57ZGIB140</td>\n",
       "      <td>378693.0</td>\n",
       "      <td>0.0</td>\n",
       "      <td>0.0</td>\n",
       "      <td>3.0</td>\n",
       "      <td>1.310602e+09</td>\n",
       "      <td>45.0</td>\n",
       "      <td>0.0</td>\n",
       "    </tr>\n",
       "    <tr>\n",
       "      <th>4</th>\n",
       "      <td>#oc-R10UA029WVWIUI</td>\n",
       "      <td>136545.0</td>\n",
       "      <td>0.0</td>\n",
       "      <td>0.0</td>\n",
       "      <td>1.0</td>\n",
       "      <td>1.342483e+09</td>\n",
       "      <td>66.0</td>\n",
       "      <td>0.0</td>\n",
       "    </tr>\n",
       "  </tbody>\n",
       "</table>\n",
       "</div>"
      ],
      "text/plain": [
       "               UserId        Id  HelpfulnessNumerator  HelpfulnessDenominator  \\\n",
       "0  #oc-R103C0QSV1DF5E  136323.0                   1.0                     2.0   \n",
       "1  #oc-R109MU5OBBZ59U  516062.0                   0.0                     1.0   \n",
       "2  #oc-R10LFEMQEW6QGZ  516079.0                   0.0                     1.0   \n",
       "3  #oc-R10LT57ZGIB140  378693.0                   0.0                     0.0   \n",
       "4  #oc-R10UA029WVWIUI  136545.0                   0.0                     0.0   \n",
       "\n",
       "   Score          Time  Text_lenght  score_pos_neg  \n",
       "0    5.0  1.343088e+09         56.0            1.0  \n",
       "1    5.0  1.350086e+09         21.0            1.0  \n",
       "2    5.0  1.345939e+09         85.0            1.0  \n",
       "3    3.0  1.310602e+09         45.0            0.0  \n",
       "4    1.0  1.342483e+09         66.0            0.0  "
      ]
     },
     "execution_count": 100,
     "metadata": {},
     "output_type": "execute_result"
    }
   ],
   "source": [
    "user_average_info.head()"
   ]
  },
  {
   "cell_type": "code",
   "execution_count": 101,
   "metadata": {},
   "outputs": [
    {
     "data": {
      "text/html": [
       "<div>\n",
       "<style>\n",
       "    .dataframe thead tr:only-child th {\n",
       "        text-align: right;\n",
       "    }\n",
       "\n",
       "    .dataframe thead th {\n",
       "        text-align: left;\n",
       "    }\n",
       "\n",
       "    .dataframe tbody tr th {\n",
       "        vertical-align: top;\n",
       "    }\n",
       "</style>\n",
       "<table border=\"1\" class=\"dataframe\">\n",
       "  <thead>\n",
       "    <tr style=\"text-align: right;\">\n",
       "      <th></th>\n",
       "      <th>UserId</th>\n",
       "      <th>Id_x</th>\n",
       "      <th>HelpfulnessNumerator</th>\n",
       "      <th>HelpfulnessDenominator</th>\n",
       "      <th>Score</th>\n",
       "      <th>Time</th>\n",
       "      <th>Text_lenght</th>\n",
       "      <th>score_pos_neg</th>\n",
       "      <th>Id_y</th>\n",
       "    </tr>\n",
       "  </thead>\n",
       "  <tbody>\n",
       "    <tr>\n",
       "      <th>0</th>\n",
       "      <td>A100WO06OQR8BQ</td>\n",
       "      <td>295215.290909</td>\n",
       "      <td>0.836364</td>\n",
       "      <td>2.418182</td>\n",
       "      <td>3.109091</td>\n",
       "      <td>1.315171e+09</td>\n",
       "      <td>166.418182</td>\n",
       "      <td>0.400000</td>\n",
       "      <td>55</td>\n",
       "    </tr>\n",
       "    <tr>\n",
       "      <th>1</th>\n",
       "      <td>A101P2KHWCU0G6</td>\n",
       "      <td>306505.230769</td>\n",
       "      <td>0.346154</td>\n",
       "      <td>1.653846</td>\n",
       "      <td>2.038462</td>\n",
       "      <td>1.338788e+09</td>\n",
       "      <td>287.923077</td>\n",
       "      <td>0.346154</td>\n",
       "      <td>26</td>\n",
       "    </tr>\n",
       "    <tr>\n",
       "      <th>2</th>\n",
       "      <td>A102LH0KD8SYHX</td>\n",
       "      <td>291680.428571</td>\n",
       "      <td>0.642857</td>\n",
       "      <td>0.642857</td>\n",
       "      <td>4.428571</td>\n",
       "      <td>1.272629e+09</td>\n",
       "      <td>27.214286</td>\n",
       "      <td>0.714286</td>\n",
       "      <td>14</td>\n",
       "    </tr>\n",
       "    <tr>\n",
       "      <th>3</th>\n",
       "      <td>A102UXGLDF76G1</td>\n",
       "      <td>262626.636364</td>\n",
       "      <td>0.363636</td>\n",
       "      <td>0.545455</td>\n",
       "      <td>4.818182</td>\n",
       "      <td>1.243296e+09</td>\n",
       "      <td>91.272727</td>\n",
       "      <td>0.909091</td>\n",
       "      <td>11</td>\n",
       "    </tr>\n",
       "    <tr>\n",
       "      <th>4</th>\n",
       "      <td>A103U3KR4L2ZXT</td>\n",
       "      <td>240098.909091</td>\n",
       "      <td>0.272727</td>\n",
       "      <td>0.272727</td>\n",
       "      <td>5.000000</td>\n",
       "      <td>1.330654e+09</td>\n",
       "      <td>32.545455</td>\n",
       "      <td>1.000000</td>\n",
       "      <td>11</td>\n",
       "    </tr>\n",
       "  </tbody>\n",
       "</table>\n",
       "</div>"
      ],
      "text/plain": [
       "           UserId           Id_x  HelpfulnessNumerator  \\\n",
       "0  A100WO06OQR8BQ  295215.290909              0.836364   \n",
       "1  A101P2KHWCU0G6  306505.230769              0.346154   \n",
       "2  A102LH0KD8SYHX  291680.428571              0.642857   \n",
       "3  A102UXGLDF76G1  262626.636364              0.363636   \n",
       "4  A103U3KR4L2ZXT  240098.909091              0.272727   \n",
       "\n",
       "   HelpfulnessDenominator     Score          Time  Text_lenght  score_pos_neg  \\\n",
       "0                2.418182  3.109091  1.315171e+09   166.418182       0.400000   \n",
       "1                1.653846  2.038462  1.338788e+09   287.923077       0.346154   \n",
       "2                0.642857  4.428571  1.272629e+09    27.214286       0.714286   \n",
       "3                0.545455  4.818182  1.243296e+09    91.272727       0.909091   \n",
       "4                0.272727  5.000000  1.330654e+09    32.545455       1.000000   \n",
       "\n",
       "   Id_y  \n",
       "0    55  \n",
       "1    26  \n",
       "2    14  \n",
       "3    11  \n",
       "4    11  "
      ]
     },
     "execution_count": 101,
     "metadata": {},
     "output_type": "execute_result"
    }
   ],
   "source": [
    "top_reviewer_avg_data.head()"
   ]
  },
  {
   "cell_type": "code",
   "execution_count": 102,
   "metadata": {
    "collapsed": true
   },
   "outputs": [],
   "source": [
    "# calculate rtio of helpfulness, average number of people finding review helpful over total count commented on review\n",
    "top_reviewer_avg_data['ratio_helpful']=top_reviewer_avg_data['HelpfulnessNumerator']/top_reviewer_avg_data['HelpfulnessDenominator']"
   ]
  },
  {
   "cell_type": "code",
   "execution_count": 103,
   "metadata": {
    "collapsed": true
   },
   "outputs": [],
   "source": [
    "top_reviewer_avg_data['Time_converted']=top_reviewer_avg_data['Time'].apply(lambda col: datetime.utcfromtimestamp(int(col)).strftime('%Y-%m'))"
   ]
  },
  {
   "cell_type": "code",
   "execution_count": 104,
   "metadata": {
    "collapsed": true
   },
   "outputs": [],
   "source": [
    "#making sure ratio of helpfulness between 0-1\n",
    "\n",
    "top_reviewer_avg_data=top_reviewer_avg_data[(top_reviewer_avg_data['ratio_helpful']>0.0) & (top_reviewer_avg_data['ratio_helpful']<1.0)]"
   ]
  },
  {
   "cell_type": "code",
   "execution_count": 105,
   "metadata": {
    "collapsed": true
   },
   "outputs": [],
   "source": [
    "colors = np.random.rand(top_reviewer_avg_data.shape[0])"
   ]
  },
  {
   "cell_type": "code",
   "execution_count": 106,
   "metadata": {},
   "outputs": [
    {
     "data": {
      "text/html": [
       "<div>\n",
       "<style>\n",
       "    .dataframe thead tr:only-child th {\n",
       "        text-align: right;\n",
       "    }\n",
       "\n",
       "    .dataframe thead th {\n",
       "        text-align: left;\n",
       "    }\n",
       "\n",
       "    .dataframe tbody tr th {\n",
       "        vertical-align: top;\n",
       "    }\n",
       "</style>\n",
       "<table border=\"1\" class=\"dataframe\">\n",
       "  <thead>\n",
       "    <tr style=\"text-align: right;\">\n",
       "      <th></th>\n",
       "      <th>UserId</th>\n",
       "      <th>Id_x</th>\n",
       "      <th>HelpfulnessNumerator</th>\n",
       "      <th>HelpfulnessDenominator</th>\n",
       "      <th>Score</th>\n",
       "      <th>Time</th>\n",
       "      <th>Text_lenght</th>\n",
       "      <th>score_pos_neg</th>\n",
       "      <th>Id_y</th>\n",
       "      <th>ratio_helpful</th>\n",
       "      <th>Time_converted</th>\n",
       "    </tr>\n",
       "  </thead>\n",
       "  <tbody>\n",
       "    <tr>\n",
       "      <th>0</th>\n",
       "      <td>A100WO06OQR8BQ</td>\n",
       "      <td>295215.290909</td>\n",
       "      <td>0.836364</td>\n",
       "      <td>2.418182</td>\n",
       "      <td>3.109091</td>\n",
       "      <td>1.315171e+09</td>\n",
       "      <td>166.418182</td>\n",
       "      <td>0.400000</td>\n",
       "      <td>55</td>\n",
       "      <td>0.345865</td>\n",
       "      <td>2011-09</td>\n",
       "    </tr>\n",
       "    <tr>\n",
       "      <th>1</th>\n",
       "      <td>A101P2KHWCU0G6</td>\n",
       "      <td>306505.230769</td>\n",
       "      <td>0.346154</td>\n",
       "      <td>1.653846</td>\n",
       "      <td>2.038462</td>\n",
       "      <td>1.338788e+09</td>\n",
       "      <td>287.923077</td>\n",
       "      <td>0.346154</td>\n",
       "      <td>26</td>\n",
       "      <td>0.209302</td>\n",
       "      <td>2012-06</td>\n",
       "    </tr>\n",
       "    <tr>\n",
       "      <th>3</th>\n",
       "      <td>A102UXGLDF76G1</td>\n",
       "      <td>262626.636364</td>\n",
       "      <td>0.363636</td>\n",
       "      <td>0.545455</td>\n",
       "      <td>4.818182</td>\n",
       "      <td>1.243296e+09</td>\n",
       "      <td>91.272727</td>\n",
       "      <td>0.909091</td>\n",
       "      <td>11</td>\n",
       "      <td>0.666667</td>\n",
       "      <td>2009-05</td>\n",
       "    </tr>\n",
       "    <tr>\n",
       "      <th>6</th>\n",
       "      <td>A105S56ODHGJEK</td>\n",
       "      <td>296723.888889</td>\n",
       "      <td>0.111111</td>\n",
       "      <td>0.555556</td>\n",
       "      <td>3.222222</td>\n",
       "      <td>1.286256e+09</td>\n",
       "      <td>159.666667</td>\n",
       "      <td>0.444444</td>\n",
       "      <td>18</td>\n",
       "      <td>0.200000</td>\n",
       "      <td>2010-10</td>\n",
       "    </tr>\n",
       "    <tr>\n",
       "      <th>8</th>\n",
       "      <td>A106Q1A6LGU4DP</td>\n",
       "      <td>225461.307692</td>\n",
       "      <td>2.615385</td>\n",
       "      <td>2.846154</td>\n",
       "      <td>4.307692</td>\n",
       "      <td>1.322106e+09</td>\n",
       "      <td>149.538462</td>\n",
       "      <td>0.769231</td>\n",
       "      <td>13</td>\n",
       "      <td>0.918919</td>\n",
       "      <td>2011-11</td>\n",
       "    </tr>\n",
       "  </tbody>\n",
       "</table>\n",
       "</div>"
      ],
      "text/plain": [
       "           UserId           Id_x  HelpfulnessNumerator  \\\n",
       "0  A100WO06OQR8BQ  295215.290909              0.836364   \n",
       "1  A101P2KHWCU0G6  306505.230769              0.346154   \n",
       "3  A102UXGLDF76G1  262626.636364              0.363636   \n",
       "6  A105S56ODHGJEK  296723.888889              0.111111   \n",
       "8  A106Q1A6LGU4DP  225461.307692              2.615385   \n",
       "\n",
       "   HelpfulnessDenominator     Score          Time  Text_lenght  score_pos_neg  \\\n",
       "0                2.418182  3.109091  1.315171e+09   166.418182       0.400000   \n",
       "1                1.653846  2.038462  1.338788e+09   287.923077       0.346154   \n",
       "3                0.545455  4.818182  1.243296e+09    91.272727       0.909091   \n",
       "6                0.555556  3.222222  1.286256e+09   159.666667       0.444444   \n",
       "8                2.846154  4.307692  1.322106e+09   149.538462       0.769231   \n",
       "\n",
       "   Id_y  ratio_helpful Time_converted  \n",
       "0    55       0.345865        2011-09  \n",
       "1    26       0.209302        2012-06  \n",
       "3    11       0.666667        2009-05  \n",
       "6    18       0.200000        2010-10  \n",
       "8    13       0.918919        2011-11  "
      ]
     },
     "execution_count": 106,
     "metadata": {},
     "output_type": "execute_result"
    }
   ],
   "source": [
    "top_reviewer_avg_data.head()"
   ]
  },
  {
   "cell_type": "markdown",
   "metadata": {},
   "source": [
    "## Review helpfulness distribution for top reviewers"
   ]
  },
  {
   "cell_type": "code",
   "execution_count": 107,
   "metadata": {},
   "outputs": [
    {
     "data": {
      "image/png": "[encoded data removed]",
      "text/plain": [
       "<matplotlib.figure.Figure at 0x435df208>"
      ]
     },
     "metadata": {},
     "output_type": "display_data"
    }
   ],
   "source": [
    "# review helpfulness distribution\n",
    "top_reviewer_avg_data['ratio_helpful'].hist(bins=100,label='review helpfullness top reviewers',alpha=0.7);\n",
    "\n",
    "plt.xlabel('Review Helpfullness ratio',fontsize=14);\n",
    "plt.ylabel('count',fontsize=14);\n",
    "\n",
    "#plt.legend()\n",
    "plt.grid(linewidth=0.5,alpha=0.75)\n",
    "\n",
    "\n",
    "plt.title('Review helpfullness for top reviewers',fontsize=14);\n",
    "plt.savefig('helpfullness_top_reviewer_dist.png')"
   ]
  },
  {
   "cell_type": "markdown",
   "metadata": {},
   "source": [
    "## Review helpfulness vs. review length for top reviewers"
   ]
  },
  {
   "cell_type": "code",
   "execution_count": 109,
   "metadata": {},
   "outputs": [
    {
     "data": {
      "text/html": [
       "<div>\n",
       "<style>\n",
       "    .dataframe thead tr:only-child th {\n",
       "        text-align: right;\n",
       "    }\n",
       "\n",
       "    .dataframe thead th {\n",
       "        text-align: left;\n",
       "    }\n",
       "\n",
       "    .dataframe tbody tr th {\n",
       "        vertical-align: top;\n",
       "    }\n",
       "</style>\n",
       "<table border=\"1\" class=\"dataframe\">\n",
       "  <thead>\n",
       "    <tr style=\"text-align: right;\">\n",
       "      <th></th>\n",
       "      <th>UserId</th>\n",
       "      <th>Id_x</th>\n",
       "      <th>HelpfulnessNumerator</th>\n",
       "      <th>HelpfulnessDenominator</th>\n",
       "      <th>Score</th>\n",
       "      <th>Time</th>\n",
       "      <th>Text_lenght</th>\n",
       "      <th>score_pos_neg</th>\n",
       "      <th>Id_y</th>\n",
       "      <th>ratio_helpful</th>\n",
       "      <th>Time_converted</th>\n",
       "    </tr>\n",
       "  </thead>\n",
       "  <tbody>\n",
       "    <tr>\n",
       "      <th>0</th>\n",
       "      <td>A100WO06OQR8BQ</td>\n",
       "      <td>295215.290909</td>\n",
       "      <td>0.836364</td>\n",
       "      <td>2.418182</td>\n",
       "      <td>3.109091</td>\n",
       "      <td>1.315171e+09</td>\n",
       "      <td>166.418182</td>\n",
       "      <td>0.400000</td>\n",
       "      <td>55</td>\n",
       "      <td>0.345865</td>\n",
       "      <td>2011-09</td>\n",
       "    </tr>\n",
       "    <tr>\n",
       "      <th>1</th>\n",
       "      <td>A101P2KHWCU0G6</td>\n",
       "      <td>306505.230769</td>\n",
       "      <td>0.346154</td>\n",
       "      <td>1.653846</td>\n",
       "      <td>2.038462</td>\n",
       "      <td>1.338788e+09</td>\n",
       "      <td>287.923077</td>\n",
       "      <td>0.346154</td>\n",
       "      <td>26</td>\n",
       "      <td>0.209302</td>\n",
       "      <td>2012-06</td>\n",
       "    </tr>\n",
       "    <tr>\n",
       "      <th>3</th>\n",
       "      <td>A102UXGLDF76G1</td>\n",
       "      <td>262626.636364</td>\n",
       "      <td>0.363636</td>\n",
       "      <td>0.545455</td>\n",
       "      <td>4.818182</td>\n",
       "      <td>1.243296e+09</td>\n",
       "      <td>91.272727</td>\n",
       "      <td>0.909091</td>\n",
       "      <td>11</td>\n",
       "      <td>0.666667</td>\n",
       "      <td>2009-05</td>\n",
       "    </tr>\n",
       "    <tr>\n",
       "      <th>6</th>\n",
       "      <td>A105S56ODHGJEK</td>\n",
       "      <td>296723.888889</td>\n",
       "      <td>0.111111</td>\n",
       "      <td>0.555556</td>\n",
       "      <td>3.222222</td>\n",
       "      <td>1.286256e+09</td>\n",
       "      <td>159.666667</td>\n",
       "      <td>0.444444</td>\n",
       "      <td>18</td>\n",
       "      <td>0.200000</td>\n",
       "      <td>2010-10</td>\n",
       "    </tr>\n",
       "    <tr>\n",
       "      <th>8</th>\n",
       "      <td>A106Q1A6LGU4DP</td>\n",
       "      <td>225461.307692</td>\n",
       "      <td>2.615385</td>\n",
       "      <td>2.846154</td>\n",
       "      <td>4.307692</td>\n",
       "      <td>1.322106e+09</td>\n",
       "      <td>149.538462</td>\n",
       "      <td>0.769231</td>\n",
       "      <td>13</td>\n",
       "      <td>0.918919</td>\n",
       "      <td>2011-11</td>\n",
       "    </tr>\n",
       "  </tbody>\n",
       "</table>\n",
       "</div>"
      ],
      "text/plain": [
       "           UserId           Id_x  HelpfulnessNumerator  \\\n",
       "0  A100WO06OQR8BQ  295215.290909              0.836364   \n",
       "1  A101P2KHWCU0G6  306505.230769              0.346154   \n",
       "3  A102UXGLDF76G1  262626.636364              0.363636   \n",
       "6  A105S56ODHGJEK  296723.888889              0.111111   \n",
       "8  A106Q1A6LGU4DP  225461.307692              2.615385   \n",
       "\n",
       "   HelpfulnessDenominator     Score          Time  Text_lenght  score_pos_neg  \\\n",
       "0                2.418182  3.109091  1.315171e+09   166.418182       0.400000   \n",
       "1                1.653846  2.038462  1.338788e+09   287.923077       0.346154   \n",
       "3                0.545455  4.818182  1.243296e+09    91.272727       0.909091   \n",
       "6                0.555556  3.222222  1.286256e+09   159.666667       0.444444   \n",
       "8                2.846154  4.307692  1.322106e+09   149.538462       0.769231   \n",
       "\n",
       "   Id_y  ratio_helpful Time_converted  \n",
       "0    55       0.345865        2011-09  \n",
       "1    26       0.209302        2012-06  \n",
       "3    11       0.666667        2009-05  \n",
       "6    18       0.200000        2010-10  \n",
       "8    13       0.918919        2011-11  "
      ]
     },
     "execution_count": 109,
     "metadata": {},
     "output_type": "execute_result"
    }
   ],
   "source": [
    "top_reviewer_avg_data.head()"
   ]
  },
  {
   "cell_type": "code",
   "execution_count": 110,
   "metadata": {},
   "outputs": [
    {
     "data": {
      "image/png": "[encoded data removed]",
      "text/plain": [
       "<matplotlib.figure.Figure at 0x45453160>"
      ]
     },
     "metadata": {},
     "output_type": "display_data"
    }
   ],
   "source": [
    "# review length vs helpfulness\n",
    "plt.scatter(top_reviewer_avg_data['Text_lenght'],top_reviewer_avg_data['ratio_helpful'],alpha=0.7);\n",
    "plt.xlim(0,600);\n",
    "plt.xlabel('Review Length',fontsize=14);\n",
    "plt.ylabel('Review Helpfullness ratio',fontsize=14);\n",
    "#plt.legend()\n",
    "plt.grid(linewidth=0.5,alpha=0.75)\n",
    "\n",
    "\n",
    "plt.title('Review length for top reviewers',fontsize=14);\n",
    "plt.savefig('helpfullness_top_reviewer_length.png')"
   ]
  },
  {
   "cell_type": "markdown",
   "metadata": {},
   "source": [
    "Users generally find top reviewer with more than 200 words length review helpful, longer review better feedback"
   ]
  },
  {
   "cell_type": "markdown",
   "metadata": {},
   "source": [
    "## Review helpfulness vs. review count for top reviewers"
   ]
  },
  {
   "cell_type": "code",
   "execution_count": 111,
   "metadata": {
    "scrolled": true
   },
   "outputs": [
    {
     "data": {
      "image/png": "[encoded data removed]",
      "text/plain": [
       "<matplotlib.figure.Figure at 0x436cec50>"
      ]
     },
     "metadata": {},
     "output_type": "display_data"
    }
   ],
   "source": [
    "#review helpfulness vs. review count\n",
    "plt.scatter(top_reviewer_avg_data['Id_y'],top_reviewer_avg_data['ratio_helpful'],alpha=0.7);\n",
    "plt.xlim(0,175);\n",
    "plt.xlabel('Top reviewer review count',fontsize=14);\n",
    "plt.ylabel('Review Helpfullness ratio',fontsize=14);\n",
    "\n",
    "#plt.legend()\n",
    "plt.grid(linewidth=0.5,alpha=0.75)\n",
    "\n",
    "\n",
    "plt.title('Review count for top reviewers',fontsize=14);\n",
    "plt.savefig('helpfullness_top_reviewer_count.png')"
   ]
  },
  {
   "cell_type": "markdown",
   "metadata": {},
   "source": [
    "Interestingly the top reviewers that write more often do not write very long paragraphs above 200 words, while those that write longer have less than 20-30 review"
   ]
  },
  {
   "cell_type": "markdown",
   "metadata": {},
   "source": [
    "## Review score/length/helfulness trend in time"
   ]
  },
  {
   "cell_type": "markdown",
   "metadata": {},
   "source": [
    "- Here the impact of time on review score, length, and helpfulness is studied\n",
    "- Data are grouped by score, as well as total count per month of each year from 1999 to 2012"
   ]
  },
  {
   "cell_type": "code",
   "execution_count": 112,
   "metadata": {
    "collapsed": true
   },
   "outputs": [],
   "source": [
    "# Divide the data by score and group for each month\n",
    "grp_s1=amz_review_sorted_drop_duplicated[amz_review_sorted_drop_duplicated['Score']==1]\n",
    "grp_s2=amz_review_sorted_drop_duplicated[amz_review_sorted_drop_duplicated['Score']==2]\n",
    "grp_s3=amz_review_sorted_drop_duplicated[amz_review_sorted_drop_duplicated['Score']==3]\n",
    "grp_s4=amz_review_sorted_drop_duplicated[amz_review_sorted_drop_duplicated['Score']==4]\n",
    "grp_s5=amz_review_sorted_drop_duplicated[amz_review_sorted_drop_duplicated['Score']==5]\n",
    "\n",
    "grp_date_1=grp_s1.groupby(by=['Time_converted_ym']).count();\n",
    "grp_date_2=grp_s2.groupby(by=['Time_converted_ym']).count();\n",
    "grp_date_3=grp_s3.groupby(by=['Time_converted_ym']).count();\n",
    "grp_date_4=grp_s4.groupby(by=['Time_converted_ym']).count();\n",
    "grp_date_5=grp_s5.groupby(by=['Time_converted_ym']).count();\n",
    "\n",
    "grp_date_1.reset_index(inplace=True); #to make it to column\n",
    "grp_date_2.reset_index(inplace=True);\n",
    "grp_date_3.reset_index(inplace=True);\n",
    "grp_date_4.reset_index(inplace=True);\n",
    "grp_date_5.reset_index(inplace=True);"
   ]
  },
  {
   "cell_type": "code",
   "execution_count": 113,
   "metadata": {
    "scrolled": true
   },
   "outputs": [
    {
     "data": {
      "image/png": "[encoded data removed]",
      "text/plain": [
       "<matplotlib.figure.Figure at 0x46da5f98>"
      ]
     },
     "metadata": {},
     "output_type": "display_data"
    }
   ],
   "source": [
    "# review count by score for each month from 2000 to 2012\n",
    "plt.figure(figsize=(24,8))\n",
    "\n",
    "plt.plot_date(x=grp_date_1['Time_converted_ym'],y=grp_date_1['Score'],label='Score=1');\n",
    "plt.plot_date(x=grp_date_2['Time_converted_ym'],y=grp_date_2['Score'],label='Score=2');\n",
    "plt.plot_date(x=grp_date_3['Time_converted_ym'],y=grp_date_3['Score'],label='Score=3');\n",
    "plt.plot_date(x=grp_date_4['Time_converted_ym'],y=grp_date_4['Score'],label='Score=4');\n",
    "plt.plot_date(x=grp_date_5['Time_converted_ym'],y=grp_date_5['Score'],label='Score=5');\n",
    "plt.xticks(rotation=90);\n",
    "plt.legend()\n",
    "plt.grid(linewidth=0.5,alpha=0.75)\n",
    "plt.xlim('2000-01','2012-10');\n",
    "plt.xlabel('Date',fontsize=22)\n",
    "plt.ylabel('Number of review',fontsize=22)\n",
    "plt.title('Number of review trend from 2000 to 2012',fontsize=24);\n",
    "plt.savefig('data_review_trend.png')\n",
    "#grp_date"
   ]
  },
  {
   "cell_type": "markdown",
   "metadata": {},
   "source": [
    "- From the 2000 to 2006 there is limited review available on Amazon, however trend start to change suddenly after 2006, the total number of 5 star review show biggest surge among other scores, this seems a bit unusual and one might ask people generally are optimistic or most possibly there are unverified accounts that are boosting the seller inappropriately with fake reviews\n",
    "- Another interesting observation even though minimal, during January 2007,2008,2011 and 2012 slight increase in 5 start reviews are observed. Question is this slight increase due to cheerful holiday spirit?!\n",
    "- The 1 to 4 star review count gradual increase make more sense due to more customer become aware of Amazon services."
   ]
  },
  {
   "cell_type": "code",
   "execution_count": 114,
   "metadata": {
    "collapsed": true
   },
   "outputs": [],
   "source": [
    "# average of helpfulness per month is calculated\n",
    "grp_avg_date=amz_review_sorted_drop_duplicated.groupby(by=['Time_converted_ym']).mean()\n",
    "grp_avg_date.reset_index(inplace=True);\n",
    "grp_avg_date['Helpfulness_ratio']=grp_avg_date['HelpfulnessNumerator']/grp_avg_date['HelpfulnessDenominator']"
   ]
  },
  {
   "cell_type": "code",
   "execution_count": 115,
   "metadata": {},
   "outputs": [
    {
     "data": {
      "text/html": [
       "<div>\n",
       "<style>\n",
       "    .dataframe thead tr:only-child th {\n",
       "        text-align: right;\n",
       "    }\n",
       "\n",
       "    .dataframe thead th {\n",
       "        text-align: left;\n",
       "    }\n",
       "\n",
       "    .dataframe tbody tr th {\n",
       "        vertical-align: top;\n",
       "    }\n",
       "</style>\n",
       "<table border=\"1\" class=\"dataframe\">\n",
       "  <thead>\n",
       "    <tr style=\"text-align: right;\">\n",
       "      <th></th>\n",
       "      <th>Time_converted_ym</th>\n",
       "      <th>Id</th>\n",
       "      <th>HelpfulnessNumerator</th>\n",
       "      <th>HelpfulnessDenominator</th>\n",
       "      <th>Score</th>\n",
       "      <th>Time</th>\n",
       "      <th>Text_lenght</th>\n",
       "      <th>score_pos_neg</th>\n",
       "      <th>Helpfulness_ratio</th>\n",
       "    </tr>\n",
       "  </thead>\n",
       "  <tbody>\n",
       "    <tr>\n",
       "      <th>0</th>\n",
       "      <td>1999-10</td>\n",
       "      <td>150512.500000</td>\n",
       "      <td>1.000</td>\n",
       "      <td>1.000</td>\n",
       "      <td>5.0</td>\n",
       "      <td>940075200.0</td>\n",
       "      <td>81.50</td>\n",
       "      <td>1.000</td>\n",
       "      <td>1.000000</td>\n",
       "    </tr>\n",
       "    <tr>\n",
       "      <th>1</th>\n",
       "      <td>1999-12</td>\n",
       "      <td>377094.500000</td>\n",
       "      <td>0.750</td>\n",
       "      <td>1.500</td>\n",
       "      <td>5.0</td>\n",
       "      <td>944352000.0</td>\n",
       "      <td>35.75</td>\n",
       "      <td>1.000</td>\n",
       "      <td>0.500000</td>\n",
       "    </tr>\n",
       "    <tr>\n",
       "      <th>2</th>\n",
       "      <td>2000-01</td>\n",
       "      <td>330241.500000</td>\n",
       "      <td>7.875</td>\n",
       "      <td>9.375</td>\n",
       "      <td>3.5</td>\n",
       "      <td>947797200.0</td>\n",
       "      <td>51.00</td>\n",
       "      <td>0.625</td>\n",
       "      <td>0.840000</td>\n",
       "    </tr>\n",
       "    <tr>\n",
       "      <th>3</th>\n",
       "      <td>2000-02</td>\n",
       "      <td>352267.666667</td>\n",
       "      <td>2.000</td>\n",
       "      <td>3.000</td>\n",
       "      <td>4.0</td>\n",
       "      <td>951523200.0</td>\n",
       "      <td>244.00</td>\n",
       "      <td>1.000</td>\n",
       "      <td>0.666667</td>\n",
       "    </tr>\n",
       "    <tr>\n",
       "      <th>4</th>\n",
       "      <td>2000-06</td>\n",
       "      <td>211823.600000</td>\n",
       "      <td>3.400</td>\n",
       "      <td>4.800</td>\n",
       "      <td>5.0</td>\n",
       "      <td>960785280.0</td>\n",
       "      <td>42.60</td>\n",
       "      <td>1.000</td>\n",
       "      <td>0.708333</td>\n",
       "    </tr>\n",
       "  </tbody>\n",
       "</table>\n",
       "</div>"
      ],
      "text/plain": [
       "  Time_converted_ym             Id  HelpfulnessNumerator  \\\n",
       "0           1999-10  150512.500000                 1.000   \n",
       "1           1999-12  377094.500000                 0.750   \n",
       "2           2000-01  330241.500000                 7.875   \n",
       "3           2000-02  352267.666667                 2.000   \n",
       "4           2000-06  211823.600000                 3.400   \n",
       "\n",
       "   HelpfulnessDenominator  Score         Time  Text_lenght  score_pos_neg  \\\n",
       "0                   1.000    5.0  940075200.0        81.50          1.000   \n",
       "1                   1.500    5.0  944352000.0        35.75          1.000   \n",
       "2                   9.375    3.5  947797200.0        51.00          0.625   \n",
       "3                   3.000    4.0  951523200.0       244.00          1.000   \n",
       "4                   4.800    5.0  960785280.0        42.60          1.000   \n",
       "\n",
       "   Helpfulness_ratio  \n",
       "0           1.000000  \n",
       "1           0.500000  \n",
       "2           0.840000  \n",
       "3           0.666667  \n",
       "4           0.708333  "
      ]
     },
     "execution_count": 115,
     "metadata": {},
     "output_type": "execute_result"
    }
   ],
   "source": [
    "grp_avg_date.head()"
   ]
  },
  {
   "cell_type": "code",
   "execution_count": 116,
   "metadata": {},
   "outputs": [
    {
     "data": {
      "image/png": "[encoded data removed]",
      "text/plain": [
       "<matplotlib.figure.Figure at 0x4a785d68>"
      ]
     },
     "metadata": {},
     "output_type": "display_data"
    }
   ],
   "source": [
    "# average review length vs. time\n",
    "plt.figure(figsize=(24,8))\n",
    "plt.plot_date(x=grp_avg_date['Time_converted_ym'],y=grp_avg_date['Text_lenght'],label='Review length');\n",
    "plt.xticks(rotation=90);\n",
    "plt.legend()\n",
    "plt.grid(linewidth=0.5,alpha=0.75)\n",
    "plt.xlim('2000-01','2012-10');\n",
    "plt.xlabel('Date',fontsize=22)\n",
    "plt.ylabel('Average review length',fontsize=22)\n",
    "plt.title('Length of review trend from 2000 to 2012',fontsize=24);\n",
    "plt.savefig('data_review_length_trend.png')\n",
    "#stable review length"
   ]
  },
  {
   "cell_type": "code",
   "execution_count": 117,
   "metadata": {
    "scrolled": true
   },
   "outputs": [
    {
     "data": {
      "image/png": "[encoded data removed]",
      "text/plain": [
       "<matplotlib.figure.Figure at 0x4a8c5cf8>"
      ]
     },
     "metadata": {},
     "output_type": "display_data"
    }
   ],
   "source": [
    "# review helpfulness vs time\n",
    "plt.figure(figsize=(24,8))\n",
    "plt.plot_date(x=grp_avg_date['Time_converted_ym'],y=grp_avg_date['Helpfulness_ratio'],label='Review Helpfullness ratio');\n",
    "plt.xticks(rotation=90);\n",
    "plt.legend()\n",
    "plt.grid(linewidth=0.5,alpha=0.75)\n",
    "plt.xlim('2000-01','2012-10');\n",
    "plt.xlabel('Date',fontsize=22)\n",
    "plt.ylabel('Average Helpfullness',fontsize=22)\n",
    "plt.title('Review Helpfullness from 2000 to 2012',fontsize=24);\n",
    "plt.savefig('data_review_helpful_trend.png')\n",
    "\n",
    "#drop can be due to visitor not getting time yet to check the reviews of 2012"
   ]
  },
  {
   "cell_type": "markdown",
   "metadata": {},
   "source": [
    "No special trend is observed, only seems that later in 2012 slight drop in helpfulness observed, that can be associated with the reciew itself being new and read fewer time"
   ]
  },
  {
   "cell_type": "code",
   "execution_count": 118,
   "metadata": {
    "collapsed": true
   },
   "outputs": [],
   "source": [
    "top_reviewer_avg_data.to_csv('top_reviewer_avg_data.csv',index=False)\n",
    "\n",
    "grp_avg_date.to_csv('grp_avg_date.csv',index=False)"
   ]
  },
  {
   "cell_type": "code",
   "execution_count": 119,
   "metadata": {
    "collapsed": true
   },
   "outputs": [],
   "source": [
    "check_name=pd.read_csv('amazon_top_reviewer_list.csv')"
   ]
  },
  {
   "cell_type": "markdown",
   "metadata": {},
   "source": [
    "## Dataset with fewer columns saved for sentiment analysis"
   ]
  },
  {
   "cell_type": "code",
   "execution_count": 120,
   "metadata": {
    "collapsed": true
   },
   "outputs": [],
   "source": [
    "amz_review_less_col=amz_review_sorted_drop_duplicated[['Score','Time_converted_ym', 'Text_new2', 'score_pos_neg']]"
   ]
  },
  {
   "cell_type": "code",
   "execution_count": 121,
   "metadata": {
    "collapsed": true
   },
   "outputs": [],
   "source": [
    "amz_review_less_col_rename=amz_review_less_col.rename(columns={'Text_new2':'Review_word_list'})"
   ]
  },
  {
   "cell_type": "code",
   "execution_count": 122,
   "metadata": {},
   "outputs": [
    {
     "data": {
      "text/html": [
       "<div>\n",
       "<style>\n",
       "    .dataframe thead tr:only-child th {\n",
       "        text-align: right;\n",
       "    }\n",
       "\n",
       "    .dataframe thead th {\n",
       "        text-align: left;\n",
       "    }\n",
       "\n",
       "    .dataframe tbody tr th {\n",
       "        vertical-align: top;\n",
       "    }\n",
       "</style>\n",
       "<table border=\"1\" class=\"dataframe\">\n",
       "  <thead>\n",
       "    <tr style=\"text-align: right;\">\n",
       "      <th></th>\n",
       "      <th>Score</th>\n",
       "      <th>Time_converted_ym</th>\n",
       "      <th>Review_word_list</th>\n",
       "      <th>score_pos_neg</th>\n",
       "    </tr>\n",
       "  </thead>\n",
       "  <tbody>\n",
       "    <tr>\n",
       "      <th>0</th>\n",
       "      <td>5</td>\n",
       "      <td>2011-04</td>\n",
       "      <td>[bought, vitality, canned, dog, food, products...</td>\n",
       "      <td>1</td>\n",
       "    </tr>\n",
       "    <tr>\n",
       "      <th>1</th>\n",
       "      <td>1</td>\n",
       "      <td>2012-09</td>\n",
       "      <td>[product, arrived, labeled, jumbo, salted, pea...</td>\n",
       "      <td>0</td>\n",
       "    </tr>\n",
       "    <tr>\n",
       "      <th>2</th>\n",
       "      <td>4</td>\n",
       "      <td>2008-08</td>\n",
       "      <td>[confection, centuries, light, pillowy, citrus...</td>\n",
       "      <td>1</td>\n",
       "    </tr>\n",
       "    <tr>\n",
       "      <th>3</th>\n",
       "      <td>2</td>\n",
       "      <td>2011-06</td>\n",
       "      <td>[secret, ingredient, robitussin, addition, roo...</td>\n",
       "      <td>0</td>\n",
       "    </tr>\n",
       "    <tr>\n",
       "      <th>4</th>\n",
       "      <td>5</td>\n",
       "      <td>2012-10</td>\n",
       "      <td>[great, taffy, great, price, wide, assortment,...</td>\n",
       "      <td>1</td>\n",
       "    </tr>\n",
       "  </tbody>\n",
       "</table>\n",
       "</div>"
      ],
      "text/plain": [
       "   Score Time_converted_ym                                   Review_word_list  \\\n",
       "0      5           2011-04  [bought, vitality, canned, dog, food, products...   \n",
       "1      1           2012-09  [product, arrived, labeled, jumbo, salted, pea...   \n",
       "2      4           2008-08  [confection, centuries, light, pillowy, citrus...   \n",
       "3      2           2011-06  [secret, ingredient, robitussin, addition, roo...   \n",
       "4      5           2012-10  [great, taffy, great, price, wide, assortment,...   \n",
       "\n",
       "   score_pos_neg  \n",
       "0              1  \n",
       "1              0  \n",
       "2              1  \n",
       "3              0  \n",
       "4              1  "
      ]
     },
     "execution_count": 122,
     "metadata": {},
     "output_type": "execute_result"
    }
   ],
   "source": [
    "amz_review_less_col_rename.head()"
   ]
  },
  {
   "cell_type": "code",
   "execution_count": 123,
   "metadata": {
    "collapsed": true
   },
   "outputs": [],
   "source": [
    "amz_review_less_col_rename.to_csv('amz_review_less_col_rename.csv',index=False)"
   ]
  },
  {
   "cell_type": "markdown",
   "metadata": {},
   "source": [
    "## Sentiment Analysis"
   ]
  },
  {
   "cell_type": "markdown",
   "metadata": {},
   "source": [
    "- In this section Machine learning analysis is performed on review text (now in a form of a list) and review score as positive or negative\n",
    "- The first step is collecting words for all reviews, positive reviews and negative reviews separately in dictionary\n",
    "- The most common words are checked in each postive and negative group\n",
    "- Word polarity, which is ratio of a common word occurance in postive review vs, negative review is calculated and words with similar polarity are plotted\n",
    "- Top 10000 most common words used as our vocabulry. This vocabulry is indexed to vectorized each review\n",
    "- For each review first 200 words are only considered based on distribution, vectors are padded accordingly\n",
    "- To account for unbalanced size of review even number of \"1\" and \"0\" review (75000) each is used)\n",
    "- Data is divided into trainig/test set\n",
    "- Model is trained using deep learning, with one layer of embedding, and two stack of GRU (gated recurrent unit), and one dense layer with sigmoid function"
   ]
  },
  {
   "cell_type": "code",
   "execution_count": 128,
   "metadata": {},
   "outputs": [],
   "source": [
    "amz_review_less_col_rename=pd.read_csv('amz_review_less_col_rename.csv', engine='python')\n",
    "amz_review_less_col_rename['Review_word_list']=amz_review_less_col_rename['Review_word_list'].apply(lambda x: eval(x))"
   ]
  },
  {
   "cell_type": "code",
   "execution_count": 129,
   "metadata": {},
   "outputs": [
    {
     "data": {
      "text/html": [
       "<div>\n",
       "<style>\n",
       "    .dataframe thead tr:only-child th {\n",
       "        text-align: right;\n",
       "    }\n",
       "\n",
       "    .dataframe thead th {\n",
       "        text-align: left;\n",
       "    }\n",
       "\n",
       "    .dataframe tbody tr th {\n",
       "        vertical-align: top;\n",
       "    }\n",
       "</style>\n",
       "<table border=\"1\" class=\"dataframe\">\n",
       "  <thead>\n",
       "    <tr style=\"text-align: right;\">\n",
       "      <th></th>\n",
       "      <th>Score</th>\n",
       "      <th>Time_converted_ym</th>\n",
       "      <th>Review_word_list</th>\n",
       "      <th>score_pos_neg</th>\n",
       "    </tr>\n",
       "  </thead>\n",
       "  <tbody>\n",
       "    <tr>\n",
       "      <th>0</th>\n",
       "      <td>5</td>\n",
       "      <td>2011-04</td>\n",
       "      <td>[bought, vitality, canned, dog, food, products...</td>\n",
       "      <td>1</td>\n",
       "    </tr>\n",
       "    <tr>\n",
       "      <th>1</th>\n",
       "      <td>1</td>\n",
       "      <td>2012-09</td>\n",
       "      <td>[product, arrived, labeled, jumbo, salted, pea...</td>\n",
       "      <td>0</td>\n",
       "    </tr>\n",
       "    <tr>\n",
       "      <th>2</th>\n",
       "      <td>4</td>\n",
       "      <td>2008-08</td>\n",
       "      <td>[confection, centuries, light, pillowy, citrus...</td>\n",
       "      <td>1</td>\n",
       "    </tr>\n",
       "    <tr>\n",
       "      <th>3</th>\n",
       "      <td>2</td>\n",
       "      <td>2011-06</td>\n",
       "      <td>[secret, ingredient, robitussin, addition, roo...</td>\n",
       "      <td>0</td>\n",
       "    </tr>\n",
       "    <tr>\n",
       "      <th>4</th>\n",
       "      <td>5</td>\n",
       "      <td>2012-10</td>\n",
       "      <td>[great, taffy, great, price, wide, assortment,...</td>\n",
       "      <td>1</td>\n",
       "    </tr>\n",
       "  </tbody>\n",
       "</table>\n",
       "</div>"
      ],
      "text/plain": [
       "   Score Time_converted_ym                                   Review_word_list  \\\n",
       "0      5           2011-04  [bought, vitality, canned, dog, food, products...   \n",
       "1      1           2012-09  [product, arrived, labeled, jumbo, salted, pea...   \n",
       "2      4           2008-08  [confection, centuries, light, pillowy, citrus...   \n",
       "3      2           2011-06  [secret, ingredient, robitussin, addition, roo...   \n",
       "4      5           2012-10  [great, taffy, great, price, wide, assortment,...   \n",
       "\n",
       "   score_pos_neg  \n",
       "0              1  \n",
       "1              0  \n",
       "2              1  \n",
       "3              0  \n",
       "4              1  "
      ]
     },
     "execution_count": 129,
     "metadata": {},
     "output_type": "execute_result"
    }
   ],
   "source": [
    "amz_review_less_col_rename.head()"
   ]
  },
  {
   "cell_type": "markdown",
   "metadata": {},
   "source": [
    "## Creating word collector for postive/negative/all reviews"
   ]
  },
  {
   "cell_type": "code",
   "execution_count": 130,
   "metadata": {
    "collapsed": true
   },
   "outputs": [],
   "source": [
    "# initialize counters for posiive, negative and all reviews\n",
    "counter_pos=Counter()\n",
    "counter_neg=Counter()\n",
    "counter_total=Counter()"
   ]
  },
  {
   "cell_type": "code",
   "execution_count": 131,
   "metadata": {
    "collapsed": true
   },
   "outputs": [],
   "source": [
    "# get individual review, score (0/1) and actual score 1-5 from dataframe in the vector form\n",
    "review_vec=amz_review_less_col_rename['Review_word_list']\n",
    "score_vec=amz_review_less_col_rename['score_pos_neg']\n",
    "actual_score_vec=amz_review_less_col_rename['Score']"
   ]
  },
  {
   "cell_type": "markdown",
   "metadata": {},
   "source": [
    "## A Negative review"
   ]
  },
  {
   "cell_type": "code",
   "execution_count": 132,
   "metadata": {},
   "outputs": [
    {
     "name": "stdout",
     "output_type": "stream",
     "text": [
      "Negative 1 12 \n",
      "\n",
      "['cats', 'happily', 'eating', 'felidae', 'platinum', 'years', 'new', 'bag', 'shape', 'food', 'new', 'food', 'bowls', 'bowls', 'sit', 'full', 'kitties', 'will', 'touch', 'food', 'ive', 'noticed', 'similar', 'reviews', 'formula', 'changes', 'unfortunately', 'need', 'find', 'new', 'food', 'cats', 'will', 'eat']\n",
      " \n",
      "\n"
     ]
    }
   ],
   "source": [
    "# very Negative review\n",
    "\n",
    "for i,review in enumerate(review_vec):\n",
    "    \n",
    "    if(i>10 and i<16 and score_vec[i]==0 and actual_score_vec[i]!=3):\n",
    "        print('Negative',actual_score_vec[i],i,'\\n')\n",
    "        print(review)\n",
    "        print(' \\n')\n",
    "    \n",
    "    #print"
   ]
  },
  {
   "cell_type": "markdown",
   "metadata": {},
   "source": [
    "## A positive review"
   ]
  },
  {
   "cell_type": "code",
   "execution_count": 133,
   "metadata": {},
   "outputs": [
    {
     "name": "stdout",
     "output_type": "stream",
     "text": [
      "Positive 5 14 \n",
      "\n",
      "['strawberry', 'twizzlers', 'guilty', 'pleasure', 'yummy', 'pounds', 'will', 'son']\n",
      " \n",
      "\n"
     ]
    }
   ],
   "source": [
    "for i,review in enumerate(review_vec):\n",
    "    \n",
    "    if(i>11 and i<15 and actual_score_vec[i]==5):\n",
    "        print('Positive',actual_score_vec[i],i,'\\n')\n",
    "        print(review)\n",
    "        print(' \\n')"
   ]
  },
  {
   "cell_type": "markdown",
   "metadata": {},
   "source": [
    "## collection of words are added"
   ]
  },
  {
   "cell_type": "code",
   "execution_count": 134,
   "metadata": {},
   "outputs": [
    {
     "data": {
      "application/vnd.jupyter.widget-view+json": {
       "model_id": "c882c728ac4549baa5dcd64040ddbbbf",
       "version_major": 2,
       "version_minor": 0
      },
      "text/plain": [
       "A Jupyter Widget"
      ]
     },
     "metadata": {},
     "output_type": "display_data"
    },
    {
     "name": "stdout",
     "output_type": "stream",
     "text": [
      "\n"
     ]
    }
   ],
   "source": [
    "#per postive/negative and total reviews per each review one by one\n",
    "\n",
    "for i in tqdm(range(len(review_vec))):\n",
    "    \n",
    "    try:\n",
    "        #print(review)\n",
    "    \n",
    "        for word in review_vec[i]:        \n",
    "            counter_total[word] += 1\n",
    "\n",
    "            if(score_vec[i]==1):\n",
    "                counter_pos[word] += 1\n",
    "\n",
    "            if(score_vec[i]==0):\n",
    "                counter_neg[word] += 1\n",
    "    except:   \n",
    "        continue"
   ]
  },
  {
   "cell_type": "markdown",
   "metadata": {},
   "source": [
    "## Most common words in negative reviews"
   ]
  },
  {
   "cell_type": "code",
   "execution_count": 135,
   "metadata": {},
   "outputs": [
    {
     "data": {
      "text/plain": [
       "[('br', 70376),\n",
       " ('like', 68474),\n",
       " ('taste', 49301),\n",
       " ('product', 45142),\n",
       " ('coffee', 38648),\n",
       " ('good', 38467),\n",
       " ('flavor', 34803),\n",
       " ('will', 30477),\n",
       " ('food', 27022),\n",
       " ('tea', 25483),\n",
       " ('buy', 20925),\n",
       " ('amazon', 17527),\n",
       " ('better', 17436),\n",
       " ('again', 17404),\n",
       " ('time', 17357),\n",
       " ('box', 16800),\n",
       " ('dog', 16407),\n",
       " ('water', 15809),\n",
       " ('great', 15632),\n",
       " ('bought', 15343)]"
      ]
     },
     "execution_count": 135,
     "metadata": {},
     "output_type": "execute_result"
    }
   ],
   "source": [
    "# top 20 most common words in negative reviews\n",
    "counter_neg.most_common()[0:20]"
   ]
  },
  {
   "cell_type": "markdown",
   "metadata": {},
   "source": [
    "## Most common words in positive reviews"
   ]
  },
  {
   "cell_type": "code",
   "execution_count": 136,
   "metadata": {},
   "outputs": [
    {
     "data": {
      "text/plain": [
       "[('br', 191475),\n",
       " ('like', 178215),\n",
       " ('good', 153115),\n",
       " ('great', 145364),\n",
       " ('coffee', 119847),\n",
       " ('taste', 114447),\n",
       " ('love', 109636),\n",
       " ('flavor', 104099),\n",
       " ('tea', 104089),\n",
       " ('product', 99629),\n",
       " ('will', 93568),\n",
       " ('food', 89946),\n",
       " ('use', 67065),\n",
       " ('best', 66555),\n",
       " ('time', 62180),\n",
       " ('amazon', 59952),\n",
       " ('find', 59420),\n",
       " ('price', 58940),\n",
       " ('ive', 57715),\n",
       " ('well', 56124)]"
      ]
     },
     "execution_count": 136,
     "metadata": {},
     "output_type": "execute_result"
    }
   ],
   "source": [
    "# top 20 most common words in positive reviews\n",
    "counter_pos.most_common()[0:20]"
   ]
  },
  {
   "cell_type": "markdown",
   "metadata": {},
   "source": [
    "## Creating collector for high polarity words (high pos/neg count)"
   ]
  },
  {
   "cell_type": "code",
   "execution_count": 137,
   "metadata": {},
   "outputs": [
    {
     "data": {
      "application/vnd.jupyter.widget-view+json": {
       "model_id": "f9c7fb0ed2f24908befa9815c11d4a47",
       "version_major": 2,
       "version_minor": 0
      },
      "text/plain": [
       "A Jupyter Widget"
      ]
     },
     "metadata": {},
     "output_type": "display_data"
    },
    {
     "name": "stdout",
     "output_type": "stream",
     "text": [
      "\n"
     ]
    }
   ],
   "source": [
    "# This counter only consider words ratio in postive vs negative review,\n",
    "#if word not in negative collection a \"1\" is added to avoid NaN\n",
    "# to avoidvery big or small ratio, a log value is saved\n",
    "\n",
    "counter_pos_neg=Counter()\n",
    "\n",
    "#words called in for over 100 times in whole reviews\n",
    "\n",
    "for word,count in tqdm(counter_total.most_common()):\n",
    "    if(count>100):\n",
    "        try: \n",
    "            counter_pos_neg[word]=np.log(counter_pos[word]/float(counter_neg[word]+1))\n",
    "        except:\n",
    "            continue"
   ]
  },
  {
   "cell_type": "markdown",
   "metadata": {},
   "source": [
    "## Top most polar words"
   ]
  },
  {
   "cell_type": "markdown",
   "metadata": {},
   "source": [
    "- Top 40 are most positive polar appear in more postive reviews, bottom 40 polar are most negative, appear more in negative reviews"
   ]
  },
  {
   "cell_type": "code",
   "execution_count": 138,
   "metadata": {
    "collapsed": true
   },
   "outputs": [],
   "source": [
    "dict_top_pos=dict(counter_pos_neg.most_common(40))\n",
    "dict_top_neg=dict(counter_pos_neg.most_common()[:-40:-1])"
   ]
  },
  {
   "cell_type": "code",
   "execution_count": 139,
   "metadata": {},
   "outputs": [
    {
     "data": {
      "image/png": "[encoded data removed]",
      "text/plain": [
       "<matplotlib.figure.Figure at 0xb8542668>"
      ]
     },
     "metadata": {},
     "output_type": "display_data"
    }
   ],
   "source": [
    "# Top 40 most positive polar\n",
    "\n",
    "\n",
    "# plt.autolayout : True\n",
    "# plt.tight_layout();\n",
    "plt.figure(figsize=(20,6))\n",
    "sns.barplot(list(dict_top_pos.keys()), list(dict_top_pos.values()), palette=\"Oranges_d\")\n",
    "plt.xticks(rotation=90,fontsize=14);\n",
    "plt.title('Top words in positive reviews',fontsize=20);\n",
    "plt.tight_layout();\n",
    "plt.savefig('word__freq_pos_rev.png')"
   ]
  },
  {
   "cell_type": "markdown",
   "metadata": {},
   "source": [
    "The bundle of these polar words very much make sense, with words from \"winwin\", \"mmmmmm\", to \"smile\" and \"relax\" show postive sentiment"
   ]
  },
  {
   "cell_type": "code",
   "execution_count": 140,
   "metadata": {},
   "outputs": [
    {
     "data": {
      "image/png": "[encoded data removed]",
      "text/plain": [
       "<matplotlib.figure.Figure at 0xae67e358>"
      ]
     },
     "metadata": {},
     "output_type": "display_data"
    }
   ],
   "source": [
    "# Top 40 most negative polar\n",
    "\n",
    "plt.figure(figsize=(20,6))\n",
    "sns.barplot(list(dict_top_neg.keys()), list(dict_top_neg.values()), palette=\"Blues_d\")\n",
    "plt.xticks(rotation=90,fontsize=14);\n",
    "plt.title('Top words in negative reviews',fontsize=20);\n",
    "plt.tight_layout();\n",
    "plt.savefig('word__freq_neg_rev.png')"
   ]
  },
  {
   "cell_type": "markdown",
   "metadata": {},
   "source": [
    "The bundle of these polar words also make sense, with words from \"returnable\", \"deceptive\", to \"ripoff\" and \"yuk\" show more negative sentiment"
   ]
  },
  {
   "cell_type": "code",
   "execution_count": 141,
   "metadata": {},
   "outputs": [
    {
     "name": "stdout",
     "output_type": "stream",
     "text": [
      "Mean: 1.1207145833\n"
     ]
    },
    {
     "data": {
      "image/png": "[encoded data removed]",
      "text/plain": [
       "<matplotlib.figure.Figure at 0xb6f522e8>"
      ]
     },
     "metadata": {},
     "output_type": "display_data"
    }
   ],
   "source": [
    "# polarity value distribution\n",
    "print('Mean:',np.mean(list(set(counter_pos_neg.values()))))\n",
    "plt.figure(figsize=(10,4));\n",
    "plt.hist(counter_pos_neg.values(),bins=2000,label='Mean=1.12',alpha=0.8);\n",
    "plt.xlim(-2,4)\n",
    "\n",
    "plt.xlabel('Log(ratio of pos. to neg. word)',fontsize=14)\n",
    "plt.ylabel('Count',fontsize=14)\n",
    "plt.title('Distribution of Log positive to negative word in reviews',fontsize=14)\n",
    "plt.grid(linewidth=0.5,alpha=0.75)\n",
    "plt.legend(loc='upper right');\n",
    "plt.savefig('distribution_log_pos_neg_word_review.png')"
   ]
  },
  {
   "cell_type": "markdown",
   "metadata": {},
   "source": [
    "Generally it is expected that polarity values center around one with more Gaussian distribution but due to large number of positive reviews \"5' star review the center is actually shifted to 1.12. If in fact this polarity distribution need to be considered for cleaning up dictionary from neutral words (at the peak) which may jot have value to out maching leaninr work, this center shift need to be considered."
   ]
  },
  {
   "cell_type": "code",
   "execution_count": 142,
   "metadata": {},
   "outputs": [
    {
     "name": "stdout",
     "output_type": "stream",
     "text": [
      "9967 186454 92005 223134\n"
     ]
    }
   ],
   "source": [
    "#dictionary count in postive, negative, ad total words\n",
    "print(len(counter_pos_neg.most_common()),len(counter_pos.most_common()),len(counter_neg.most_common()),len(counter_total.most_common()))"
   ]
  },
  {
   "cell_type": "code",
   "execution_count": 143,
   "metadata": {},
   "outputs": [
    {
     "name": "stdout",
     "output_type": "stream",
     "text": [
      "0.86 1.26 -0.97 1.20\n"
     ]
    }
   ],
   "source": [
    "print('%0.2f' %counter_pos_neg['neutral'],'%0.2f' %counter_pos_neg['diet'],'%0.2f' %counter_pos_neg['awful'],'%0.2f' %counter_pos_neg['food'])"
   ]
  },
  {
   "cell_type": "markdown",
   "metadata": {},
   "source": [
    "## Using Only top 10000 most common words as dictionary for indexing"
   ]
  },
  {
   "cell_type": "code",
   "execution_count": 144,
   "metadata": {
    "collapsed": true
   },
   "outputs": [],
   "source": [
    "# Just use top 10000 common words, these are words that show up at leadt 100 times in reviews\n",
    "top_10000_common_words_dic=dict(counter_total.most_common()[0:10000])"
   ]
  },
  {
   "cell_type": "code",
   "execution_count": 145,
   "metadata": {},
   "outputs": [
    {
     "name": "stdout",
     "output_type": "stream",
     "text": [
      "10000\n"
     ]
    }
   ],
   "source": [
    "top_10000_common_words_list=(list(top_10000_common_words_dic.keys()))\n",
    "print(len(top_10000_common_words_list))"
   ]
  },
  {
   "cell_type": "code",
   "execution_count": 146,
   "metadata": {
    "collapsed": true
   },
   "outputs": [],
   "source": [
    "#index the words based on appearance in the most common order, the order of this indexing does not matter,\n",
    "# just need a rule to convert word to a number, but need to be conssitent through the study though\n",
    "\n",
    "word_to_index={}\n",
    "index_to_word={}\n",
    "\n",
    "for i,word in enumerate(top_10000_common_words_list):\n",
    "    word_to_index[word]=i\n",
    "    \n",
    "for word,i in word_to_index.items():\n",
    "    index_to_word[i]=word\n",
    "\n",
    "# {'br': 0, 'like': 1, 'good': 2, 'taste': 3, 'great': 4, 'coffee': 5, 'product': 6, 'flavor': 7, 'tea': 8, 'love': 9, 'will': 10, 'food': 11, 'use': 12\n",
    "#{0: 'br', 1: 'like', 2: 'good', 3: 'taste', 4: 'great', 5: 'coffee', 6: 'product', 7: 'flavor', 8: 'tea', 9: 'love', 10: 'will', 11: 'food', 12:"
   ]
  },
  {
   "cell_type": "markdown",
   "metadata": {},
   "source": [
    "## Word index replaces the word string for ML study"
   ]
  },
  {
   "cell_type": "code",
   "execution_count": 147,
   "metadata": {},
   "outputs": [
    {
     "data": {
      "application/vnd.jupyter.widget-view+json": {
       "model_id": "d76a7af11db4499a9c3743813bf7b1d0",
       "version_major": 2,
       "version_minor": 0
      },
      "text/plain": [
       "A Jupyter Widget"
      ]
     },
     "metadata": {},
     "output_type": "display_data"
    },
    {
     "name": "stdout",
     "output_type": "stream",
     "text": [
      "\n",
      "560381 560381 560381\n"
     ]
    }
   ],
   "source": [
    "# making sure review is not null, and also get corresponding vectors for score, replace the words if they are in\n",
    "# top 10000 list with their index\n",
    "\n",
    "review_vec_index=[]\n",
    "review_label=[]\n",
    "review_score=[]\n",
    "\n",
    "for i in tqdm(range(len(review_vec))):\n",
    "    \n",
    "    len_rev=len(review_vec[i])\n",
    "    if(len_rev>0 and len_rev<1750):  #clean very short and very long reviews\n",
    "        indices = set()\n",
    "        for word in review_vec[i]:\n",
    "            if word in word_to_index.keys():\n",
    "                indices.add(word_to_index[word])\n",
    "        review_vec_index.append(list(indices))\n",
    "        review_label.append(score_vec[i])\n",
    "        review_score.append(actual_score_vec[i])\n",
    "                \n",
    "print(len(review_vec_index),len(review_label),len(review_score))"
   ]
  },
  {
   "cell_type": "code",
   "execution_count": 148,
   "metadata": {},
   "outputs": [
    {
     "data": {
      "image/png": "[encoded data removed]",
      "text/plain": [
       "<matplotlib.figure.Figure at 0xaebda400>"
      ]
     },
     "metadata": {},
     "output_type": "display_data"
    }
   ],
   "source": [
    "# length of the review before and after considerin only 10000 words\n",
    "review_len_vec = pd.Series(review_vec).apply(lambda x: len(x)) \n",
    "review_len_vec_index = pd.Series(review_vec_index).apply(lambda x: len(x))\n",
    "\n",
    "review_len_vec.hist(bins=1750,alpha=0.6,label='all words');\n",
    "review_len_vec_index.hist(bins=589,alpha=0.5,label='10000 most common');\n",
    "plt.xlim(0,200)\n",
    "#plt.ylim(0,500)\n",
    "plt.grid(linewidth=0.5,alpha=0.75)\n",
    "plt.xlabel('Length of review',fontsize=14);\n",
    "plt.ylabel('Count',fontsize=14);\n",
    "\n",
    "plt.title('Review length distribution, all vs. 10000 most common words',fontsize=14);\n",
    "plt.legend()\n",
    "plt.savefig('review_length_dist_before_after.png')"
   ]
  },
  {
   "cell_type": "code",
   "execution_count": 149,
   "metadata": {},
   "outputs": [
    {
     "data": {
      "text/plain": [
       "count    560389.000000\n",
       "mean         32.635055\n",
       "std          33.231570\n",
       "min           0.000000\n",
       "25%          14.000000\n",
       "50%          23.000000\n",
       "75%          39.000000\n",
       "max        1714.000000\n",
       "Name: Review_word_list, dtype: float64"
      ]
     },
     "execution_count": 149,
     "metadata": {},
     "output_type": "execute_result"
    }
   ],
   "source": [
    "# before cosidering null review length \n",
    "review_len_vec.describe()"
   ]
  },
  {
   "cell_type": "code",
   "execution_count": 150,
   "metadata": {},
   "outputs": [
    {
     "data": {
      "text/plain": [
       "count    560381.000000\n",
       "mean         25.400021\n",
       "std          20.670300\n",
       "min           1.000000\n",
       "25%          12.000000\n",
       "50%          19.000000\n",
       "75%          31.000000\n",
       "max         589.000000\n",
       "dtype: float64"
      ]
     },
     "execution_count": 150,
     "metadata": {},
     "output_type": "execute_result"
    }
   ],
   "source": [
    "#after removing null lengths and cosidering only top 10000 words\n",
    "review_len_vec_index.describe()"
   ]
  },
  {
   "cell_type": "code",
   "execution_count": 151,
   "metadata": {},
   "outputs": [
    {
     "name": "stdout",
     "output_type": "stream",
     "text": [
      "count    560381.000000\n",
      "mean          0.780622\n",
      "std           0.413825\n",
      "min           0.000000\n",
      "25%           1.000000\n",
      "50%           1.000000\n",
      "75%           1.000000\n",
      "max           1.000000\n",
      "dtype: float64\n"
     ]
    }
   ],
   "source": [
    "print(pd.Series(review_label).describe())"
   ]
  },
  {
   "cell_type": "code",
   "execution_count": 152,
   "metadata": {},
   "outputs": [
    {
     "data": {
      "text/plain": [
       "<matplotlib.axes._subplots.AxesSubplot at 0xafe29128>"
      ]
     },
     "execution_count": 152,
     "metadata": {},
     "output_type": "execute_result"
    },
    {
     "data": {
      "image/png": "[encoded data removed]",
      "text/plain": [
       "<matplotlib.figure.Figure at 0xb8926dd8>"
      ]
     },
     "metadata": {},
     "output_type": "display_data"
    }
   ],
   "source": [
    "score_vec.hist()"
   ]
  },
  {
   "cell_type": "markdown",
   "metadata": {},
   "source": [
    "## Example of index vectors"
   ]
  },
  {
   "cell_type": "markdown",
   "metadata": {},
   "source": [
    "- length of each revire still varies at this stage, but need to be made consistent to 100 word vector as input of out deep learning network"
   ]
  },
  {
   "cell_type": "code",
   "execution_count": 153,
   "metadata": {},
   "outputs": [
    {
     "name": "stdout",
     "output_type": "stream",
     "text": [
      "0 [352, 1, 2, 8259, 6, 872, 4745, 4842, 11, 77, 2235, 1421, 21, 22, 246, 283, 61, 31] 1 5\n",
      "1 [1186, 964, 6, 3272, 1802, 1773, 173, 7437, 1649, 2769, 5371, 734, 63] 0 1\n",
      "2 [9344, 524, 2709, 1942, 28, 1948, 160, 6694, 41, 172, 302, 303, 946, 448, 326, 2125, 80, 1491, 4439, 7384, 7517, 861, 114, 1651, 7413, 5110, 1787, 2174, 383] 1 4\n"
     ]
    }
   ],
   "source": [
    "for i,review in enumerate(review_vec_index):\n",
    "    if(i<3):\n",
    "        print(i,review_vec_index[i],review_label[i],review_score[i])"
   ]
  },
  {
   "cell_type": "code",
   "execution_count": 154,
   "metadata": {
    "collapsed": true
   },
   "outputs": [],
   "source": [
    "#lists transford into array\n",
    "review_score=np.array(review_score)\n",
    "review_vec_index=np.array(review_vec_index)"
   ]
  },
  {
   "cell_type": "markdown",
   "metadata": {},
   "source": [
    "## Using even number of postive and negative reviews for classification"
   ]
  },
  {
   "cell_type": "markdown",
   "metadata": {},
   "source": [
    "- Due to uneven nature of \"5\" star reviews, only even number (75000) postive and negative reviews considerd\n",
    "- This contain all \"1\", \"2\" star review, part of \"4\" and portio of \"5\" stars. \"3\" stars due to it netural content not considered"
   ]
  },
  {
   "cell_type": "code",
   "execution_count": 155,
   "metadata": {},
   "outputs": [
    {
     "data": {
      "application/vnd.jupyter.widget-view+json": {
       "model_id": "f2cacf4e08e34e5ca624954892c3b30f",
       "version_major": 2,
       "version_minor": 0
      },
      "text/plain": [
       "A Jupyter Widget"
      ]
     },
     "metadata": {},
     "output_type": "display_data"
    },
    {
     "name": "stdout",
     "output_type": "stream",
     "text": [
      "\n"
     ]
    }
   ],
   "source": [
    "max_per_pos_neg=75000\n",
    "counter_pos=0\n",
    "counter_neg=0\n",
    "review_vec_index_even=[]\n",
    "review_label_even=[]\n",
    "review_score_even=[]\n",
    "\n",
    "for i in tqdm(range(len(review_score))):\n",
    "    if((review_score[i]==5 or review_score[i]==4) and counter_pos<max_per_pos_neg):\n",
    "        \n",
    "        review_vec_index_even.append(review_vec_index[i])\n",
    "        review_label_even.append(review_label[i])\n",
    "        review_score_even.append(review_score[i])\n",
    "        counter_pos=counter_pos+1\n",
    "        \n",
    "    if((review_score[i]==1 or review_score[i]==2) and counter_neg<max_per_pos_neg):\n",
    "        \n",
    "        review_vec_index_even.append(review_vec_index[i])\n",
    "        review_label_even.append(review_label[i])\n",
    "        review_score_even.append(review_score[i])\n",
    "        counter_neg=counter_neg+1"
   ]
  },
  {
   "cell_type": "code",
   "execution_count": 156,
   "metadata": {},
   "outputs": [
    {
     "data": {
      "text/plain": [
       "<matplotlib.axes._subplots.AxesSubplot at 0xb3623cc0>"
      ]
     },
     "execution_count": 156,
     "metadata": {},
     "output_type": "execute_result"
    },
    {
     "data": {
      "image/png": "[encoded data removed]",
      "text/plain": [
       "<matplotlib.figure.Figure at 0xa0ab6198>"
      ]
     },
     "metadata": {},
     "output_type": "display_data"
    }
   ],
   "source": [
    "# reviews score after making count of positive and negative even\n",
    "pd.Series(review_score_even).hist()"
   ]
  },
  {
   "cell_type": "code",
   "execution_count": 157,
   "metadata": {},
   "outputs": [
    {
     "data": {
      "text/plain": [
       "<matplotlib.axes._subplots.AxesSubplot at 0xc84ae048>"
      ]
     },
     "execution_count": 157,
     "metadata": {},
     "output_type": "execute_result"
    },
    {
     "data": {
      "image/png": "[encoded data removed]",
      "text/plain": [
       "<matplotlib.figure.Figure at 0xb9555828>"
      ]
     },
     "metadata": {},
     "output_type": "display_data"
    }
   ],
   "source": [
    "# reviews label after making count of positive and negative even\n",
    "pd.Series(review_label_even).hist()"
   ]
  },
  {
   "cell_type": "code",
   "execution_count": null,
   "metadata": {
    "collapsed": true
   },
   "outputs": [],
   "source": []
  }
 ],
 "metadata": {
  "kernelspec": {
   "display_name": "Python 3",
   "language": "python",
   "name": "python3"
  },
  "language_info": {
   "codemirror_mode": {
    "name": "ipython",
    "version": 3
   },
   "file_extension": ".py",
   "mimetype": "text/x-python",
   "name": "python",
   "nbconvert_exporter": "python",
   "pygments_lexer": "ipython3",
   "version": "3.6.3"
  }
 },
 "nbformat": 4,
 "nbformat_minor": 2
}
